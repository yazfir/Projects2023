{
 "cells": [
  {
   "cell_type": "code",
   "execution_count": 1,
   "id": "cba4f4ba",
   "metadata": {},
   "outputs": [
    {
     "name": "stdout",
     "output_type": "stream",
     "text": [
      "Nombre,Apellido,Edad\n",
      "Juan,Lopez,30\n",
      "Pedro,Perez,25\n",
      "Jesus,Jimenez,45\n",
      "Maria,Sanchez,28\n",
      "\n"
     ]
    }
   ],
   "source": [
    "import io\n",
    "\n",
    "archivo = open(\"archivoCSV.csv\")\n",
    "contenido = archivo.read()\n",
    "archivo.close()\n",
    "\n",
    "print(contenido)"
   ]
  },
  {
   "cell_type": "code",
   "execution_count": 4,
   "id": "daa5e538",
   "metadata": {},
   "outputs": [
    {
     "name": "stdout",
     "output_type": "stream",
     "text": [
      "  Nombre Apellido  Edad\n",
      "0   Juan    Lopez    30\n",
      "1  Pedro    Perez    25\n",
      "2  Jesus  Jimenez    45\n",
      "3  Maria  Sanchez    28\n",
      "\n",
      "  Nombre Apellido  Edad\n",
      "0   Juan    Lopez    30\n"
     ]
    }
   ],
   "source": [
    "import pandas as pd\n",
    "\n",
    "df = pd.read_csv('archivoCSV.csv', nrows=10000)\n",
    "\n",
    "print(df)\n",
    "print()\n",
    "print(df.head(1))"
   ]
  },
  {
   "cell_type": "code",
   "execution_count": 13,
   "id": "2ac8cccb",
   "metadata": {},
   "outputs": [
    {
     "name": "stdout",
     "output_type": "stream",
     "text": [
      "    Duration\n",
      "0         60\n",
      "1         60\n",
      "10        60\n",
      "2         60\n",
      "3         45\n",
      "4         45\n",
      "5         60\n",
      "6         60\n",
      "7         45\n",
      "8         30\n",
      "9         60\n"
     ]
    }
   ],
   "source": [
    "#Estructura Json\n",
    "#  { \"Citricos\" : { \"toronja\" : 4, \"limon\" : 8, \"naranja\" : 4, \"mandarina\" : 8 } }\n",
    "\n",
    "print(pd.read_json('data.json'))\n",
    "\n"
   ]
  },
  {
   "cell_type": "code",
   "execution_count": 14,
   "id": "ad4703ef",
   "metadata": {},
   "outputs": [
    {
     "data": {
      "text/html": [
       "<div>\n",
       "<style scoped>\n",
       "    .dataframe tbody tr th:only-of-type {\n",
       "        vertical-align: middle;\n",
       "    }\n",
       "\n",
       "    .dataframe tbody tr th {\n",
       "        vertical-align: top;\n",
       "    }\n",
       "\n",
       "    .dataframe thead th {\n",
       "        text-align: right;\n",
       "    }\n",
       "</style>\n",
       "<table border=\"1\" class=\"dataframe\">\n",
       "  <thead>\n",
       "    <tr style=\"text-align: right;\">\n",
       "      <th></th>\n",
       "      <th>nombre</th>\n",
       "      <th>edad</th>\n",
       "    </tr>\n",
       "  </thead>\n",
       "  <tbody>\n",
       "    <tr>\n",
       "      <th>0</th>\n",
       "      <td>Juan</td>\n",
       "      <td>28</td>\n",
       "    </tr>\n",
       "  </tbody>\n",
       "</table>\n",
       "</div>"
      ],
      "text/plain": [
       "  nombre  edad\n",
       "0   Juan    28"
      ]
     },
     "execution_count": 14,
     "metadata": {},
     "output_type": "execute_result"
    }
   ],
   "source": [
    "dic = {\n",
    "    \"nombre\" : \"Juan\",\n",
    "    \"edad\" : 28\n",
    "}\n",
    "\n",
    "dataframe = pd.DataFrame(dic, index=[0])\n",
    "\n",
    "dataframe"
   ]
  }
 ],
 "metadata": {
  "kernelspec": {
   "display_name": "Python 3 (ipykernel)",
   "language": "python",
   "name": "python3"
  },
  "language_info": {
   "codemirror_mode": {
    "name": "ipython",
    "version": 3
   },
   "file_extension": ".py",
   "mimetype": "text/x-python",
   "name": "python",
   "nbconvert_exporter": "python",
   "pygments_lexer": "ipython3",
   "version": "3.11.4"
  }
 },
 "nbformat": 4,
 "nbformat_minor": 5
}
