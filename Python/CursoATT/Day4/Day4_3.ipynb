{
 "cells": [
  {
   "cell_type": "code",
   "execution_count": 2,
   "id": "1b316e1e",
   "metadata": {},
   "outputs": [],
   "source": [
    "# MATRICES\n",
    "\n",
    "from scipy import linalg\n",
    "import numpy as np"
   ]
  },
  {
   "cell_type": "code",
   "execution_count": 3,
   "id": "b6489636",
   "metadata": {},
   "outputs": [
    {
     "data": {
      "text/plain": [
       "array([[ 1,  0,  3],\n",
       "       [ 0,  1, -2],\n",
       "       [ 1,  1,  2]])"
      ]
     },
     "execution_count": 3,
     "metadata": {},
     "output_type": "execute_result"
    }
   ],
   "source": [
    "a = np.array([ [1,0,3],[0,1,-2],[1,1,2] ])\n",
    "a"
   ]
  },
  {
   "cell_type": "code",
   "execution_count": 4,
   "id": "8e903954",
   "metadata": {},
   "outputs": [
    {
     "data": {
      "text/plain": [
       "0.9999999999999998"
      ]
     },
     "execution_count": 4,
     "metadata": {},
     "output_type": "execute_result"
    }
   ],
   "source": [
    "linalg.det(a) # Calcular determinante"
   ]
  },
  {
   "cell_type": "code",
   "execution_count": 5,
   "id": "22ca403a",
   "metadata": {},
   "outputs": [
    {
     "data": {
      "text/plain": [
       "array([[ 4.,  3., -3.],\n",
       "       [-2., -1.,  2.],\n",
       "       [-1., -1.,  1.]])"
      ]
     },
     "execution_count": 5,
     "metadata": {},
     "output_type": "execute_result"
    }
   ],
   "source": [
    "linalg.inv(a) # Inversa de la matriz"
   ]
  },
  {
   "cell_type": "code",
   "execution_count": 6,
   "id": "ea003a7e",
   "metadata": {},
   "outputs": [
    {
     "data": {
      "text/plain": [
       "[[7, 2], [4, 5]]"
      ]
     },
     "execution_count": 6,
     "metadata": {},
     "output_type": "execute_result"
    }
   ],
   "source": [
    "\"\"\"\n",
    "7x + 2y = 8\n",
    "4x + 5y = 10\n",
    "\"\"\"\n",
    "\n",
    "matA = [ [7,2], [4,5] ]\n",
    "matA"
   ]
  },
  {
   "cell_type": "code",
   "execution_count": 8,
   "id": "9b6da40b",
   "metadata": {},
   "outputs": [
    {
     "data": {
      "text/plain": [
       "[[8], [10]]"
      ]
     },
     "execution_count": 8,
     "metadata": {},
     "output_type": "execute_result"
    }
   ],
   "source": [
    "matB = [[8],[10]]\n",
    "matB"
   ]
  },
  {
   "cell_type": "code",
   "execution_count": 12,
   "id": "251a80c2",
   "metadata": {},
   "outputs": [
    {
     "data": {
      "text/plain": [
       "array([[0.74074074],\n",
       "       [1.40740741]])"
      ]
     },
     "execution_count": 12,
     "metadata": {},
     "output_type": "execute_result"
    }
   ],
   "source": [
    "linalg.solve(matA,matB)"
   ]
  },
  {
   "cell_type": "code",
   "execution_count": 14,
   "id": "d40cd4d3",
   "metadata": {},
   "outputs": [
    {
     "data": {
      "text/plain": [
       "array([[ 2.],\n",
       "       [-1.],\n",
       "       [-2.]])"
      ]
     },
     "execution_count": 14,
     "metadata": {},
     "output_type": "execute_result"
    }
   ],
   "source": [
    "matC = np.array( [[2,4,6],[2,-3,-4],[3,4,5]] )\n",
    "matD = np.array([[-12],[15],[-8]])\n",
    "linalg.solve(matC,matD)"
   ]
  },
  {
   "cell_type": "code",
   "execution_count": 15,
   "id": "1cd3c0c2",
   "metadata": {},
   "outputs": [],
   "source": [
    "(x,y,z) = linalg.solve(matC,matD)"
   ]
  },
  {
   "cell_type": "code",
   "execution_count": 16,
   "id": "c4818a42",
   "metadata": {},
   "outputs": [
    {
     "data": {
      "text/plain": [
       "array([2.])"
      ]
     },
     "execution_count": 16,
     "metadata": {},
     "output_type": "execute_result"
    }
   ],
   "source": [
    "x"
   ]
  },
  {
   "cell_type": "code",
   "execution_count": 17,
   "id": "bced6c1c",
   "metadata": {},
   "outputs": [
    {
     "data": {
      "text/plain": [
       "array([-1.])"
      ]
     },
     "execution_count": 17,
     "metadata": {},
     "output_type": "execute_result"
    }
   ],
   "source": [
    "y"
   ]
  },
  {
   "cell_type": "code",
   "execution_count": 18,
   "id": "3c5daf43",
   "metadata": {},
   "outputs": [
    {
     "data": {
      "text/plain": [
       "array([-2.])"
      ]
     },
     "execution_count": 18,
     "metadata": {},
     "output_type": "execute_result"
    }
   ],
   "source": [
    "z"
   ]
  },
  {
   "cell_type": "code",
   "execution_count": 20,
   "id": "71c6841b",
   "metadata": {},
   "outputs": [
    {
     "data": {
      "text/plain": [
       "-8519.999999999993"
      ]
     },
     "execution_count": 20,
     "metadata": {},
     "output_type": "execute_result"
    }
   ],
   "source": [
    "\"\"\"\n",
    "Resolver el siguiente sistema de ecuaciones, validar que tenga solución usando el determinante:\n",
    "\n",
    "5x1 + 4x2 -1x + 2x4 -9x5 = 29\n",
    "4x1 + 3x2 -5x3 -5x4 + 4x5 = -65\n",
    "6x1 - 6x2 -3x3 -9x4 +4x5 = -113\n",
    "-8x1 + 8x2 +5x3 -3x4 -6x5 = 35\n",
    "-3x1 - 7x2 +2x3 -5x4 +4x5 = -50\n",
    "\n",
    "\"\"\"\n",
    "\n",
    "matrizP = np.array([ [5,4,-1,2,-9],[4,3,-5,-5,4],[6,-6,-3,-9,4],[-8,8,5,-3,-6],[-3,-7,2,-5,4] ])\n",
    "matrizQ = np.array([ [29],[-65],[-113],[35],[-50] ])\n",
    "\n",
    "linalg.det(matrizP) #Determinante no debe ser 0 para tener solución"
   ]
  },
  {
   "cell_type": "code",
   "execution_count": 21,
   "id": "a6c9f47e",
   "metadata": {},
   "outputs": [],
   "source": [
    "(x1,x2,x3,x4,x5) = linalg.solve(matrizP,matrizQ)"
   ]
  },
  {
   "cell_type": "code",
   "execution_count": 22,
   "id": "ef5769f2",
   "metadata": {},
   "outputs": [
    {
     "data": {
      "text/plain": [
       "array([-2.])"
      ]
     },
     "execution_count": 22,
     "metadata": {},
     "output_type": "execute_result"
    }
   ],
   "source": [
    "x1"
   ]
  },
  {
   "cell_type": "code",
   "execution_count": 23,
   "id": "48344ee7",
   "metadata": {},
   "outputs": [
    {
     "data": {
      "text/plain": [
       "array([2.])"
      ]
     },
     "execution_count": 23,
     "metadata": {},
     "output_type": "execute_result"
    }
   ],
   "source": [
    "x2"
   ]
  },
  {
   "cell_type": "code",
   "execution_count": 24,
   "id": "3c2730ee",
   "metadata": {},
   "outputs": [
    {
     "data": {
      "text/plain": [
       "array([3.])"
      ]
     },
     "execution_count": 24,
     "metadata": {},
     "output_type": "execute_result"
    }
   ],
   "source": [
    "x3"
   ]
  },
  {
   "cell_type": "code",
   "execution_count": 25,
   "id": "12f235bd",
   "metadata": {},
   "outputs": [
    {
     "data": {
      "text/plain": [
       "array([8.])"
      ]
     },
     "execution_count": 25,
     "metadata": {},
     "output_type": "execute_result"
    }
   ],
   "source": [
    "x4"
   ]
  },
  {
   "cell_type": "code",
   "execution_count": 26,
   "id": "2e409234",
   "metadata": {},
   "outputs": [
    {
     "data": {
      "text/plain": [
       "array([-2.])"
      ]
     },
     "execution_count": 26,
     "metadata": {},
     "output_type": "execute_result"
    }
   ],
   "source": [
    "x5"
   ]
  },
  {
   "cell_type": "code",
   "execution_count": null,
   "id": "a070ac65",
   "metadata": {},
   "outputs": [],
   "source": []
  }
 ],
 "metadata": {
  "kernelspec": {
   "display_name": "Python 3 (ipykernel)",
   "language": "python",
   "name": "python3"
  },
  "language_info": {
   "codemirror_mode": {
    "name": "ipython",
    "version": 3
   },
   "file_extension": ".py",
   "mimetype": "text/x-python",
   "name": "python",
   "nbconvert_exporter": "python",
   "pygments_lexer": "ipython3",
   "version": "3.11.4"
  }
 },
 "nbformat": 4,
 "nbformat_minor": 5
}
