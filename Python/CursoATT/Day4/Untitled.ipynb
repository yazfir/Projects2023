{
 "cells": [
  {
   "cell_type": "code",
   "execution_count": 1,
   "id": "89da533d",
   "metadata": {},
   "outputs": [],
   "source": [
    "def ScopeOrAlcance():\n",
    "\n",
    "    def func1(un_arg, una_func):\n",
    "        def func2(otro_arg):\n",
    "            return otro_arg * 2\n",
    "        \n",
    "        valor = func2(un_arg)\n",
    "        return una_func(valor)\n",
    "\n",
    "    un_arg = 1\n",
    "\n",
    "    def cualquier_func(cualquier_arg):\n",
    "        return cualquier_arg + 5\n",
    "\n",
    "    resultado = func1(un_arg, cualquier_func)\n",
    "    print(resultado)"
   ]
  },
  {
   "cell_type": "code",
   "execution_count": 2,
   "id": "893dada0",
   "metadata": {},
   "outputs": [
    {
     "name": "stdout",
     "output_type": "stream",
     "text": [
      "7\n"
     ]
    }
   ],
   "source": [
    "ScopeOrAlcance()"
   ]
  },
  {
   "cell_type": "code",
   "execution_count": null,
   "id": "efc6201d",
   "metadata": {},
   "outputs": [],
   "source": []
  }
 ],
 "metadata": {
  "kernelspec": {
   "display_name": "Python 3 (ipykernel)",
   "language": "python",
   "name": "python3"
  },
  "language_info": {
   "codemirror_mode": {
    "name": "ipython",
    "version": 3
   },
   "file_extension": ".py",
   "mimetype": "text/x-python",
   "name": "python",
   "nbconvert_exporter": "python",
   "pygments_lexer": "ipython3",
   "version": "3.11.4"
  }
 },
 "nbformat": 4,
 "nbformat_minor": 5
}
