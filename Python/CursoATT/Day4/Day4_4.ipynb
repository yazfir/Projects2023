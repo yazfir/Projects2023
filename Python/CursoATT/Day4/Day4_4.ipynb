{
 "cells": [
  {
   "cell_type": "code",
   "execution_count": 17,
   "id": "fc7cce40",
   "metadata": {},
   "outputs": [],
   "source": [
    "#Bases de datos\n",
    "from os import getcwd\n",
    "\n",
    "import pyodbc\n",
    "\n",
    "import pandas as pd\n"
   ]
  },
  {
   "cell_type": "code",
   "execution_count": 7,
   "id": "4682f9ee",
   "metadata": {},
   "outputs": [],
   "source": [
    "# Establecer conexión\n",
    "\n",
    "# Nombre del controlador.\n",
    "DRIVER_NAME = \"Microsoft Access Driver (*.mdb, *.accdb)\"\n",
    "\n",
    "# Ruta completa del archivo.\n",
    "DB_PATH = getcwd() + \"/escuelita.accdb\"\n",
    "\n",
    "# Establecer la conexión.\n",
    "conn = pyodbc.connect(\"Driver={%s};DBQ=%s;\" % (DRIVER_NAME, DB_PATH))\n"
   ]
  },
  {
   "cell_type": "code",
   "execution_count": 9,
   "id": "2764b4d9",
   "metadata": {},
   "outputs": [
    {
     "data": {
      "text/plain": [
       "[(1, 'Juanito'), (2, 'Maria'), (3, 'Pedro'), (4, 'Camila')]"
      ]
     },
     "execution_count": 9,
     "metadata": {},
     "output_type": "execute_result"
    }
   ],
   "source": [
    "# Crear cursor para ejecutar consultas.\n",
    "cursor = conn.cursor()\n",
    "\n",
    "# Ejecutar consulta: retornar todas las filas de la tabla empleados.\n",
    "q = cursor.execute(\"SELECT * FROM alumno\")\n",
    "rows = q.fetchall()\n",
    "rows"
   ]
  },
  {
   "cell_type": "code",
   "execution_count": 12,
   "id": "95996bd9",
   "metadata": {},
   "outputs": [],
   "source": [
    "# Agregar algunos datos\n",
    "\n",
    "newAlumno = 'Pablo'\n",
    "\n",
    "sqlINSERT = u'INSERT INTO alumno (nombre) values (?)'\n",
    "\n",
    "cursor.execute(sqlINSERT, newAlumno)\n",
    "cursor.commit()"
   ]
  },
  {
   "cell_type": "code",
   "execution_count": 13,
   "id": "50852d27",
   "metadata": {},
   "outputs": [
    {
     "data": {
      "text/plain": [
       "[(1, 'Juanito'), (2, 'Maria'), (3, 'Pedro'), (4, 'Camila'), (5, 'Pablo')]"
      ]
     },
     "execution_count": 13,
     "metadata": {},
     "output_type": "execute_result"
    }
   ],
   "source": [
    "q = cursor.execute(\"SELECT * FROM alumno\")\n",
    "rows = q.fetchall()\n",
    "rows"
   ]
  },
  {
   "cell_type": "code",
   "execution_count": 19,
   "id": "b3aea085",
   "metadata": {},
   "outputs": [
    {
     "name": "stderr",
     "output_type": "stream",
     "text": [
      "C:\\Users\\ZayLJ\\AppData\\Local\\Temp\\ipykernel_7640\\284354177.py:1: UserWarning: pandas only supports SQLAlchemy connectable (engine/connection) or database string URI or sqlite3 DBAPI2 connection. Other DBAPI2 objects are not tested. Please consider using SQLAlchemy.\n",
      "  dataframe = pd.read_sql(\"SELECT * FROM alumno\", con = conn)\n"
     ]
    },
    {
     "data": {
      "text/html": [
       "<div>\n",
       "<style scoped>\n",
       "    .dataframe tbody tr th:only-of-type {\n",
       "        vertical-align: middle;\n",
       "    }\n",
       "\n",
       "    .dataframe tbody tr th {\n",
       "        vertical-align: top;\n",
       "    }\n",
       "\n",
       "    .dataframe thead th {\n",
       "        text-align: right;\n",
       "    }\n",
       "</style>\n",
       "<table border=\"1\" class=\"dataframe\">\n",
       "  <thead>\n",
       "    <tr style=\"text-align: right;\">\n",
       "      <th></th>\n",
       "      <th>Id</th>\n",
       "      <th>nombre</th>\n",
       "    </tr>\n",
       "  </thead>\n",
       "  <tbody>\n",
       "    <tr>\n",
       "      <th>0</th>\n",
       "      <td>1</td>\n",
       "      <td>Juanito</td>\n",
       "    </tr>\n",
       "    <tr>\n",
       "      <th>1</th>\n",
       "      <td>2</td>\n",
       "      <td>Maria</td>\n",
       "    </tr>\n",
       "    <tr>\n",
       "      <th>2</th>\n",
       "      <td>3</td>\n",
       "      <td>Pedro</td>\n",
       "    </tr>\n",
       "    <tr>\n",
       "      <th>3</th>\n",
       "      <td>4</td>\n",
       "      <td>Camila</td>\n",
       "    </tr>\n",
       "    <tr>\n",
       "      <th>4</th>\n",
       "      <td>5</td>\n",
       "      <td>Pablo</td>\n",
       "    </tr>\n",
       "  </tbody>\n",
       "</table>\n",
       "</div>"
      ],
      "text/plain": [
       "   Id   nombre\n",
       "0   1  Juanito\n",
       "1   2    Maria\n",
       "2   3    Pedro\n",
       "3   4   Camila\n",
       "4   5    Pablo"
      ]
     },
     "execution_count": 19,
     "metadata": {},
     "output_type": "execute_result"
    }
   ],
   "source": [
    "dataframe = pd.read_sql(\"SELECT * FROM alumno\", con = conn)\n",
    "dataframe"
   ]
  },
  {
   "cell_type": "code",
   "execution_count": null,
   "id": "b8dc7c14",
   "metadata": {},
   "outputs": [],
   "source": []
  },
  {
   "cell_type": "code",
   "execution_count": null,
   "id": "702e9e66",
   "metadata": {},
   "outputs": [],
   "source": []
  },
  {
   "cell_type": "code",
   "execution_count": 14,
   "id": "c73d26c3",
   "metadata": {},
   "outputs": [
    {
     "data": {
      "text/plain": [
       "'\\nif rows is not None:\\n    for row in rows:\\n        print(row)\\nelse:\\n    print(\"No hay datos en la tabla.\")\\n\\n# Cerrar la conexión y, opcionalmente, el cursor antes de finalizar.\\ncursor.close()\\nconn.close()\\n'"
      ]
     },
     "execution_count": 14,
     "metadata": {},
     "output_type": "execute_result"
    }
   ],
   "source": [
    "# Recorrer cada una de las filas e imprimirlas en pantalla.\n",
    "\n",
    "\"\"\"\n",
    "if rows is not None:\n",
    "    for row in rows:\n",
    "        print(row)\n",
    "else:\n",
    "    print(\"No hay datos en la tabla.\")\n",
    "\n",
    "# Cerrar la conexión y, opcionalmente, el cursor antes de finalizar.\n",
    "cursor.close()\n",
    "conn.close()\n",
    "\"\"\""
   ]
  }
 ],
 "metadata": {
  "kernelspec": {
   "display_name": "Python 3 (ipykernel)",
   "language": "python",
   "name": "python3"
  },
  "language_info": {
   "codemirror_mode": {
    "name": "ipython",
    "version": 3
   },
   "file_extension": ".py",
   "mimetype": "text/x-python",
   "name": "python",
   "nbconvert_exporter": "python",
   "pygments_lexer": "ipython3",
   "version": "3.11.4"
  }
 },
 "nbformat": 4,
 "nbformat_minor": 5
}
