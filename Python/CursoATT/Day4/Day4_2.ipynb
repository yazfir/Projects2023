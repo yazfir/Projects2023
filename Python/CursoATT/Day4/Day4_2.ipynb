{
 "cells": [
  {
   "cell_type": "code",
   "execution_count": 23,
   "id": "90bfbf3b",
   "metadata": {},
   "outputs": [],
   "source": [
    "import numpy as np\n",
    "import matplotlib.pyplot as plt"
   ]
  },
  {
   "cell_type": "code",
   "execution_count": 2,
   "id": "acd39e52",
   "metadata": {},
   "outputs": [
    {
     "data": {
      "text/plain": [
       "array([ 94,  71,  81,  67,  67,  78,  69,  66,  88,  70,  99,  67,  88,\n",
       "        62,  85,  72,  71,  84,  69,  69,  54,  93,  87,  62,  93,  74,\n",
       "        74,  93,  70,  53,  95,  96,  79,  87,  91,  64,  57,  62,  87,\n",
       "        81,  88,  71,  85,  90,  72,  55,  53,  79,  97,  94,  79,  55,\n",
       "        79,  96,  80,  78,  99,  74,  53,  80,  62,  83,  75,  89,  58,\n",
       "        72,  63,  50,  66,  64,  89,  60,  67,  84,  77,  63,  66,  67,\n",
       "        67,  78,  68,  56,  70,  53,  94,  56,  82,  94,  67,  97,  85,\n",
       "        54,  95,  84,  86,  92,  99,  94,  69,  87,  67,  65,  84,  57,\n",
       "       100,  55,  72,  72,  55,  80,  68,  88,  90,  64,  83,  99,  54,\n",
       "        66,  73,  54,  79,  78,  58,  90,  99,  80,  70,  57,  80,  53,\n",
       "        91,  98,  97,  80,  99,  85,  59,  98,  73,  92,  79,  67,  60,\n",
       "        87,  76,  77,  58,  82,  91,  55, 100,  57,  81,  95,  74,  71,\n",
       "        56,  99,  79,  55,  75,  85,  70,  79,  76,  70,  62,  79,  87,\n",
       "        59,  57,  62,  90,  98,  80,  56,  57,  90,  62,  64,  77,  78,\n",
       "        61,  86,  98, 100,  68,  56,  68,  93,  82,  74,  80,  87,  96,\n",
       "        82,  73,  89,  52,  84])"
      ]
     },
     "execution_count": 2,
     "metadata": {},
     "output_type": "execute_result"
    }
   ],
   "source": [
    "scores = np.random.randint(50,101,200)\n",
    "scores"
   ]
  },
  {
   "cell_type": "code",
   "execution_count": 3,
   "id": "5d160f2f",
   "metadata": {},
   "outputs": [
    {
     "data": {
      "text/plain": [
       "76.055"
      ]
     },
     "execution_count": 3,
     "metadata": {},
     "output_type": "execute_result"
    }
   ],
   "source": [
    "np.mean(scores) # promedio"
   ]
  },
  {
   "cell_type": "code",
   "execution_count": 4,
   "id": "5950f992",
   "metadata": {},
   "outputs": [
    {
     "data": {
      "text/plain": [
       "77.0"
      ]
     },
     "execution_count": 4,
     "metadata": {},
     "output_type": "execute_result"
    }
   ],
   "source": [
    "np.median(scores) # media"
   ]
  },
  {
   "cell_type": "code",
   "execution_count": 5,
   "id": "6f01e53e",
   "metadata": {},
   "outputs": [
    {
     "data": {
      "text/plain": [
       "193.42197500000003"
      ]
     },
     "execution_count": 5,
     "metadata": {},
     "output_type": "execute_result"
    }
   ],
   "source": [
    "np.var(scores) # varianza"
   ]
  },
  {
   "cell_type": "code",
   "execution_count": 6,
   "id": "eda33f5d",
   "metadata": {},
   "outputs": [
    {
     "data": {
      "text/plain": [
       "13.907622909757082"
      ]
     },
     "execution_count": 6,
     "metadata": {},
     "output_type": "execute_result"
    }
   ],
   "source": [
    "np.std(scores) #Desviación Estándar "
   ]
  },
  {
   "cell_type": "code",
   "execution_count": 8,
   "id": "0241521c",
   "metadata": {},
   "outputs": [
    {
     "data": {
      "text/plain": [
       "array([0, 1, 2, 3, 4, 5])"
      ]
     },
     "execution_count": 8,
     "metadata": {},
     "output_type": "execute_result"
    }
   ],
   "source": [
    "arrayA = np.arange(6)\n",
    "arrayA"
   ]
  },
  {
   "cell_type": "code",
   "execution_count": 9,
   "id": "caf17811",
   "metadata": {},
   "outputs": [
    {
     "data": {
      "text/plain": [
       "array([ 0,  1,  4,  9, 16, 25])"
      ]
     },
     "execution_count": 9,
     "metadata": {},
     "output_type": "execute_result"
    }
   ],
   "source": [
    "np.square(arrayA) # Elevado al cuadrado"
   ]
  },
  {
   "cell_type": "code",
   "execution_count": 10,
   "id": "57277a32",
   "metadata": {},
   "outputs": [
    {
     "data": {
      "text/plain": [
       "array([  1.        ,   2.71828183,   7.3890561 ,  20.08553692,\n",
       "        54.59815003, 148.4131591 ])"
      ]
     },
     "execution_count": 10,
     "metadata": {},
     "output_type": "execute_result"
    }
   ],
   "source": [
    "np.exp(arrayA)"
   ]
  },
  {
   "cell_type": "code",
   "execution_count": 11,
   "id": "1bf7b7ac",
   "metadata": {},
   "outputs": [
    {
     "data": {
      "text/plain": [
       "array([ 1,  2,  3,  4,  5,  6,  7,  8,  9, 10])"
      ]
     },
     "execution_count": 11,
     "metadata": {},
     "output_type": "execute_result"
    }
   ],
   "source": [
    "arrayC = np.arange(1,11)\n",
    "arrayC"
   ]
  },
  {
   "cell_type": "code",
   "execution_count": 12,
   "id": "61724117",
   "metadata": {},
   "outputs": [
    {
     "data": {
      "text/plain": [
       "array([0.        , 0.69314718, 1.09861229, 1.38629436, 1.60943791,\n",
       "       1.79175947, 1.94591015, 2.07944154, 2.19722458, 2.30258509])"
      ]
     },
     "execution_count": 12,
     "metadata": {},
     "output_type": "execute_result"
    }
   ],
   "source": [
    "np.log(arrayC) # logaritmo natural"
   ]
  },
  {
   "cell_type": "code",
   "execution_count": 21,
   "id": "b6522d5b",
   "metadata": {},
   "outputs": [
    {
     "data": {
      "text/plain": [
       "array([100., 103., 105., 107., 109., 111., 113., 116., 118., 120., 123.,\n",
       "       125., 128., 130., 133., 135., 138., 141., 144., 147., 150., 153.,\n",
       "       156., 159., 162., 165., 169., 172., 176., 179., 183., 186., 190.,\n",
       "       194., 198., 202., 206., 210., 214., 219., 223., 228., 232., 237.,\n",
       "       242., 246., 251., 256., 262., 267., 272., 278., 283., 289., 295.,\n",
       "       301., 307., 313., 319., 326., 333., 339., 346., 353., 360., 367.,\n",
       "       375., 382., 390., 398., 406., 414., 423.])"
      ]
     },
     "execution_count": 21,
     "metadata": {},
     "output_type": "execute_result"
    }
   ],
   "source": [
    "# Ejercicio: Dada una población inicial de bacterias y el factor de crecimiento, calcular la población\n",
    "# de 0 a 72 hrs\n",
    "# Fórumula =           P = P0 e^kt\n",
    "\n",
    "pobBacterias = 100\n",
    "factorCrecimiento = 0.02\n",
    "arrayHrs = np.arange(0,73)\n",
    "\n",
    "Poblacion = np.ceil( pobBacterias * np.exp(factorCrecimiento * arrayHrs) )\n",
    "Poblacion"
   ]
  },
  {
   "cell_type": "code",
   "execution_count": 24,
   "id": "b372b38e",
   "metadata": {},
   "outputs": [
    {
     "data": {
      "image/png": "[encoded data removed]",
      "text/plain": [
       "<Figure size 640x480 with 1 Axes>"
      ]
     },
     "metadata": {},
     "output_type": "display_data"
    }
   ],
   "source": [
    "plt.plot(Poblacion)\n",
    "plt.show()"
   ]
  },
  {
   "cell_type": "code",
   "execution_count": 25,
   "id": "2959aa96",
   "metadata": {},
   "outputs": [
    {
     "data": {
      "text/plain": [
       "3.141592653589793"
      ]
     },
     "execution_count": 25,
     "metadata": {},
     "output_type": "execute_result"
    }
   ],
   "source": [
    "np.pi"
   ]
  },
  {
   "cell_type": "code",
   "execution_count": 27,
   "id": "15a215d8",
   "metadata": {},
   "outputs": [
    {
     "data": {
      "text/plain": [
       "array([0.        , 0.52359878, 0.78539816, 1.04719755, 1.57079633,\n",
       "       2.0943951 , 2.35619449, 2.61799388, 3.14159265])"
      ]
     },
     "execution_count": 27,
     "metadata": {},
     "output_type": "execute_result"
    }
   ],
   "source": [
    "pi = np.pi\n",
    "arrayD = np.array([0, pi/6, pi/4, pi/3, pi/2, 2*pi/3, 3*pi/4, 5*pi/6, pi])\n",
    "arrayD"
   ]
  },
  {
   "cell_type": "code",
   "execution_count": 28,
   "id": "0853ddb5",
   "metadata": {},
   "outputs": [
    {
     "data": {
      "text/plain": [
       "[<matplotlib.lines.Line2D at 0xbecb3437d0>]"
      ]
     },
     "execution_count": 28,
     "metadata": {},
     "output_type": "execute_result"
    },
    {
     "data": {
      "image/png": "[encoded data removed]",
      "text/plain": [
       "<Figure size 640x480 with 1 Axes>"
      ]
     },
     "metadata": {},
     "output_type": "display_data"
    }
   ],
   "source": [
    "plt.plot(arrayD, np.sin(arrayD))"
   ]
  },
  {
   "cell_type": "code",
   "execution_count": 29,
   "id": "4438917b",
   "metadata": {},
   "outputs": [
    {
     "data": {
      "text/plain": [
       "array([ 0.        ,  0.12693304,  0.25386607,  0.38079911,  0.50773215,\n",
       "        0.63466518,  0.76159822,  0.88853126,  1.01546429,  1.14239733,\n",
       "        1.26933037,  1.3962634 ,  1.52319644,  1.65012947,  1.77706251,\n",
       "        1.90399555,  2.03092858,  2.15786162,  2.28479466,  2.41172769,\n",
       "        2.53866073,  2.66559377,  2.7925268 ,  2.91945984,  3.04639288,\n",
       "        3.17332591,  3.30025895,  3.42719199,  3.55412502,  3.68105806,\n",
       "        3.8079911 ,  3.93492413,  4.06185717,  4.1887902 ,  4.31572324,\n",
       "        4.44265628,  4.56958931,  4.69652235,  4.82345539,  4.95038842,\n",
       "        5.07732146,  5.2042545 ,  5.33118753,  5.45812057,  5.58505361,\n",
       "        5.71198664,  5.83891968,  5.96585272,  6.09278575,  6.21971879,\n",
       "        6.34665183,  6.47358486,  6.6005179 ,  6.72745093,  6.85438397,\n",
       "        6.98131701,  7.10825004,  7.23518308,  7.36211612,  7.48904915,\n",
       "        7.61598219,  7.74291523,  7.86984826,  7.9967813 ,  8.12371434,\n",
       "        8.25064737,  8.37758041,  8.50451345,  8.63144648,  8.75837952,\n",
       "        8.88531256,  9.01224559,  9.13917863,  9.26611167,  9.3930447 ,\n",
       "        9.51997774,  9.64691077,  9.77384381,  9.90077685, 10.02770988,\n",
       "       10.15464292, 10.28157596, 10.40850899, 10.53544203, 10.66237507,\n",
       "       10.7893081 , 10.91624114, 11.04317418, 11.17010721, 11.29704025,\n",
       "       11.42397329, 11.55090632, 11.67783936, 11.8047724 , 11.93170543,\n",
       "       12.05863847, 12.1855715 , 12.31250454, 12.43943758, 12.56637061])"
      ]
     },
     "execution_count": 29,
     "metadata": {},
     "output_type": "execute_result"
    }
   ],
   "source": [
    "arrayE = np.linspace(0,4*pi,100)\n",
    "arrayE"
   ]
  },
  {
   "cell_type": "code",
   "execution_count": 30,
   "id": "72f1501c",
   "metadata": {},
   "outputs": [
    {
     "data": {
      "text/plain": [
       "[<matplotlib.lines.Line2D at 0xbecb41be90>]"
      ]
     },
     "execution_count": 30,
     "metadata": {},
     "output_type": "execute_result"
    },
    {
     "data": {
      "image/png": "[encoded data removed]",
      "text/plain": [
       "<Figure size 640x480 with 1 Axes>"
      ]
     },
     "metadata": {},
     "output_type": "display_data"
    }
   ],
   "source": [
    "plt.plot(arrayE, np.sin(arrayE))"
   ]
  },
  {
   "cell_type": "code",
   "execution_count": 31,
   "id": "f3587a10",
   "metadata": {},
   "outputs": [],
   "source": [
    "from scipy import linalg"
   ]
  },
  {
   "cell_type": "code",
   "execution_count": 34,
   "id": "4edab5b2",
   "metadata": {},
   "outputs": [],
   "source": [
    "linalg? #ver información de librería"
   ]
  },
  {
   "cell_type": "code",
   "execution_count": null,
   "id": "706fa76e",
   "metadata": {},
   "outputs": [],
   "source": []
  }
 ],
 "metadata": {
  "kernelspec": {
   "display_name": "Python 3 (ipykernel)",
   "language": "python",
   "name": "python3"
  },
  "language_info": {
   "codemirror_mode": {
    "name": "ipython",
    "version": 3
   },
   "file_extension": ".py",
   "mimetype": "text/x-python",
   "name": "python",
   "nbconvert_exporter": "python",
   "pygments_lexer": "ipython3",
   "version": "3.11.4"
  }
 },
 "nbformat": 4,
 "nbformat_minor": 5
}
