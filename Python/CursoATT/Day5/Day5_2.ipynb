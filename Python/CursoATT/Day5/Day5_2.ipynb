{
 "cells": [
  {
   "cell_type": "code",
   "execution_count": 1,
   "id": "88a6cc5c",
   "metadata": {},
   "outputs": [],
   "source": [
    "import io\n",
    "from bs4 import BeautifulSoup as BS"
   ]
  },
  {
   "cell_type": "code",
   "execution_count": 2,
   "id": "ae98c653",
   "metadata": {},
   "outputs": [
    {
     "data": {
      "text/plain": [
       "'<cfdi:Comprobante xsi:schemaLocation=\"http://www.sat.gob.mx/cfd/4 http://www.sat.gob.mx/sitio_internet/cfd/4/cfdv40.xsd\" Version=\"4.0\" Fecha=\"2022-01-12T19:00:06\" Sello=\"IxNswUgE5GrDWWgHRJwgDOauapdTEdGB519oVuZoRb2CEMC2B1Tu+BZHA6XG3SQJSs2hSEMRwXo2ImvZ8D1DT4nLrQbUOtLEmhdFPS3dL24k6BVM/9+xzZ0CDwiTtvSMiy7Zr6ThYUyta5f47izErG/xPzhKnBlsqWvxFuFScXVmgOopbZYHky71EnQUe4+d8hJlS5WVIzS4fZOoyQP/SnOxKwwJwx65ixQcU9hx92jeA29FlGBrN2j3LoTiPV1H15/7gm0dkPKwkE16S6UubZ/45pwdFj23TJ/YtF8Ni/uoqL5nPjlMXykQxv010+74ZXzouiPTH/5HY1B3ixkElg==\" FormaPago=\"99\" NoCertificado=\"00001000000502772173\" Certificado=\"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\" SubTotal=\"74862.51\" Moneda=\"MXN\" Total=\"86840.51\" TipoDeComprobante=\"I\" Exportacion=\"01\" MetodoPago=\"PPD\" LugarExpedicion=\"03900\" xmlns:cfdi=\"http://www.sat.gob.mx/cfd/4\" xmlns:xsi=\"http://www.w3.org/2001/XMLSchema-instance\">\\n  <cfdi:Emisor Rfc=\"PRIV...\" Nombre=\"PATITO SA DE CV\" RegimenFiscal=\"626\" />\\n  <cfdi:Receptor Rfc=\"PRIV...\" Nombre=\"HOME S DE RL DE CV\" DomicilioFiscalReceptor=\"06500\" RegimenFiscalReceptor=\"601\" UsoCFDI=\"G03\" />\\n  <cfdi:Conceptos>\\n    <cfdi:Concepto ClaveProdServ=\"80141628\" Cantidad=\"1.00\" ClaveUnidad=\"E48\" Unidad=\"Unidad de servicio\" Descripcion=\"Residual Prepago Diciembre 2021\" ValorUnitario=\"74862.51\" Importe=\"74862.51\" ObjetoImp=\"02\">\\n      <cfdi:Impuestos>\\n        <cfdi:Traslados>\\n          <cfdi:Traslado Base=\"74862.51\" Impuesto=\"002\" TipoFactor=\"Tasa\" TasaOCuota=\"0.160000\" Importe=\"11978.00\" />\\n        </cfdi:Traslados>\\n      </cfdi:Impuestos>\\n    </cfdi:Concepto>\\n  </cfdi:Conceptos>\\n  <cfdi:Impuestos TotalImpuestosTrasladados=\"11978.00\">\\n    <cfdi:Traslados>\\n      <cfdi:Traslado Base=\"74862.51\" Impuesto=\"002\" TipoFactor=\"Tasa\" TasaOCuota=\"0.160000\" Importe=\"11978.00\" />\\n    </cfdi:Traslados>\\n  </cfdi:Impuestos>\\n  <cfdi:Complemento>\\n    <tfd:TimbreFiscalDigital xmlns:tfd=\"http://www.sat.gob.mx/TimbreFiscalDigital\" xsi:schemaLocation=\"http://www.sat.gob.mx/TimbreFiscalDigital http://www.sat.gob.mx/sitio_internet/cfd/TimbreFiscalDigital/TimbreFiscalDigitalv11.xsd\" Version=\"1.1\" UUID=\"16E7F08C-4B00-5555-B8C8-56F80D462451\" FechaTimbrado=\"2022-01-12T19:02:31\" RfcProvCertif=\"SAT970701NN3\" SelloCFD=\"IxNswUgE5GrDWWgHRJwgDOauapdTEdGB519oVuZoRb2CEMC2B1Tu+BZHA6XG3SQJSs2hSEMRwXo2ImvZ8D1DT4nLrQbUOtLEmhdFPS3dL24k6BVM/9+xzZ0CDwiTtvSMiy7Zr6ThYUyta5f47izErG/xPzhKnBlsqWvxFuFScXVmgOopbZYHky71EnQUe4+d8hJlS5WVIzS4fZOoyQP/SnOxKwwJwx65ixQcU9hx92jeA29FlGBrN2j3LoTiPV1H15/7gm0dkPKwkE16S6UubZ/45pwdFj23TJ/YtF8Ni/uoqL5nPjlMXykQxv010+74ZXzouiPTH/5HY1B3ixkElg==\" NoCertificadoSAT=\"00001000000504465028\" SelloSAT=\"BTgeTjeKB6lzFwjopmRkhuIGQr5F9vL+5FESMRGKv/81BsWv5BRk8/sScVLArv2BEMmIz23Pn0C4c6NfKTi62FKPck/o/G8K0e8UmC7SdTGw/6XnYXS8lCOqCc8/XNAsLVs3Bm4lQV7ntb+Ynf8TiMFjzIfgNqkYf4SZKg+/SUNB6PO4xF4h7/XRILjE39CiPLnZiI2RGD2g6IMh6vxBVzzQI0rx48C1GrqUdmbPXR/7RF1jQtLkOK6WiKOpZSlhIpP+AB/CcJfbf/gEl0BwXlztPU/kwi5pzIcxfH8A0pv5YcV9mGiWa4/exrCEdUPcgG43pajsWyB+ggxZ1mXnSA==\" />\\n  </cfdi:Complemento>\\n</cfdi:Comprobante>'"
      ]
     },
     "execution_count": 2,
     "metadata": {},
     "output_type": "execute_result"
    }
   ],
   "source": [
    "archivo = open('Ejem4.0.xml','r')\n",
    "xml_str = archivo.read()\n",
    "archivo.close()\n",
    "xml_str"
   ]
  },
  {
   "cell_type": "code",
   "execution_count": 15,
   "id": "9c5e9d7a",
   "metadata": {},
   "outputs": [
    {
     "name": "stdout",
     "output_type": "stream",
     "text": [
      "<?xml version=\"1.0\" encoding=\"utf-8\"?>\n",
      "<cfdi:Comprobante Certificado=\"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\" Exportacion=\"01\" Fecha=\"2022-01-12T19:00:06\" FormaPago=\"99\" LugarExpedicion=\"03900\" MetodoPago=\"PPD\" Moneda=\"MXN\" NoCertificado=\"00001000000502772173\" Sello=\"IxNswUgE5GrDWWgHRJwgDOauapdTEdGB519oVuZoRb2CEMC2B1Tu+BZHA6XG3SQJSs2hSEMRwXo2ImvZ8D1DT4nLrQbUOtLEmhdFPS3dL24k6BVM/9+xzZ0CDwiTtvSMiy7Zr6ThYUyta5f47izErG/xPzhKnBlsqWvxFuFScXVmgOopbZYHky71EnQUe4+d8hJlS5WVIzS4fZOoyQP/SnOxKwwJwx65ixQcU9hx92jeA29FlGBrN2j3LoTiPV1H15/7gm0dkPKwkE16S6UubZ/45pwdFj23TJ/YtF8Ni/uoqL5nPjlMXykQxv010+74ZXzouiPTH/5HY1B3ixkElg==\" SubTotal=\"74862.51\" TipoDeComprobante=\"I\" Total=\"86840.51\" Version=\"4.0\" xmlns:cfdi=\"http://www.sat.gob.mx/cfd/4\" xmlns:xsi=\"http://www.w3.org/2001/XMLSchema-instance\" xsi:schemaLocation=\"http://www.sat.gob.mx/cfd/4 http://www.sat.gob.mx/sitio_internet/cfd/4/cfdv40.xsd\">\n",
      " <cfdi:Emisor Nombre=\"PATITO SA DE CV\" RegimenFiscal=\"626\" Rfc=\"PRIV...\"/>\n",
      " <cfdi:Receptor DomicilioFiscalReceptor=\"06500\" Nombre=\"HOME S DE RL DE CV\" RegimenFiscalReceptor=\"601\" Rfc=\"PRIV...\" UsoCFDI=\"G03\"/>\n",
      " <cfdi:Conceptos>\n",
      "  <cfdi:Concepto Cantidad=\"1.00\" ClaveProdServ=\"80141628\" ClaveUnidad=\"E48\" Descripcion=\"Residual Prepago Diciembre 2021\" Importe=\"74862.51\" ObjetoImp=\"02\" Unidad=\"Unidad de servicio\" ValorUnitario=\"74862.51\">\n",
      "   <cfdi:Impuestos>\n",
      "    <cfdi:Traslados>\n",
      "     <cfdi:Traslado Base=\"74862.51\" Importe=\"11978.00\" Impuesto=\"002\" TasaOCuota=\"0.160000\" TipoFactor=\"Tasa\"/>\n",
      "    </cfdi:Traslados>\n",
      "   </cfdi:Impuestos>\n",
      "  </cfdi:Concepto>\n",
      " </cfdi:Conceptos>\n",
      " <cfdi:Impuestos TotalImpuestosTrasladados=\"11978.00\">\n",
      "  <cfdi:Traslados>\n",
      "   <cfdi:Traslado Base=\"74862.51\" Importe=\"11978.00\" Impuesto=\"002\" TasaOCuota=\"0.160000\" TipoFactor=\"Tasa\"/>\n",
      "  </cfdi:Traslados>\n",
      " </cfdi:Impuestos>\n",
      " <cfdi:Complemento>\n",
      "  <tfd:TimbreFiscalDigital FechaTimbrado=\"2022-01-12T19:02:31\" NoCertificadoSAT=\"00001000000504465028\" RfcProvCertif=\"SAT970701NN3\" SelloCFD=\"IxNswUgE5GrDWWgHRJwgDOauapdTEdGB519oVuZoRb2CEMC2B1Tu+BZHA6XG3SQJSs2hSEMRwXo2ImvZ8D1DT4nLrQbUOtLEmhdFPS3dL24k6BVM/9+xzZ0CDwiTtvSMiy7Zr6ThYUyta5f47izErG/xPzhKnBlsqWvxFuFScXVmgOopbZYHky71EnQUe4+d8hJlS5WVIzS4fZOoyQP/SnOxKwwJwx65ixQcU9hx92jeA29FlGBrN2j3LoTiPV1H15/7gm0dkPKwkE16S6UubZ/45pwdFj23TJ/YtF8Ni/uoqL5nPjlMXykQxv010+74ZXzouiPTH/5HY1B3ixkElg==\" SelloSAT=\"BTgeTjeKB6lzFwjopmRkhuIGQr5F9vL+5FESMRGKv/81BsWv5BRk8/sScVLArv2BEMmIz23Pn0C4c6NfKTi62FKPck/o/G8K0e8UmC7SdTGw/6XnYXS8lCOqCc8/XNAsLVs3Bm4lQV7ntb+Ynf8TiMFjzIfgNqkYf4SZKg+/SUNB6PO4xF4h7/XRILjE39CiPLnZiI2RGD2g6IMh6vxBVzzQI0rx48C1GrqUdmbPXR/7RF1jQtLkOK6WiKOpZSlhIpP+AB/CcJfbf/gEl0BwXlztPU/kwi5pzIcxfH8A0pv5YcV9mGiWa4/exrCEdUPcgG43pajsWyB+ggxZ1mXnSA==\" UUID=\"16E7F08C-4B00-5555-B8C8-56F80D462451\" Version=\"1.1\" xmlns:tfd=\"http://www.sat.gob.mx/TimbreFiscalDigital\" xsi:schemaLocation=\"http://www.sat.gob.mx/TimbreFiscalDigital http://www.sat.gob.mx/sitio_internet/cfd/TimbreFiscalDigital/TimbreFiscalDigitalv11.xsd\"/>\n",
      " </cfdi:Complemento>\n",
      "</cfdi:Comprobante>\n",
      "\n"
     ]
    }
   ],
   "source": [
    "SO = BS(xml_str,'xml')\n",
    "print(SO.prettify())"
   ]
  },
  {
   "cell_type": "code",
   "execution_count": 20,
   "id": "ce572536",
   "metadata": {},
   "outputs": [
    {
     "data": {
      "text/plain": [
       "<cfdi:Comprobante Certificado=\"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\" Exportacion=\"01\" Fecha=\"2022-01-12T19:00:06\" FormaPago=\"99\" LugarExpedicion=\"03900\" MetodoPago=\"PPD\" Moneda=\"MXN\" NoCertificado=\"00001000000502772173\" Sello=\"IxNswUgE5GrDWWgHRJwgDOauapdTEdGB519oVuZoRb2CEMC2B1Tu+BZHA6XG3SQJSs2hSEMRwXo2ImvZ8D1DT4nLrQbUOtLEmhdFPS3dL24k6BVM/9+xzZ0CDwiTtvSMiy7Zr6ThYUyta5f47izErG/xPzhKnBlsqWvxFuFScXVmgOopbZYHky71EnQUe4+d8hJlS5WVIzS4fZOoyQP/SnOxKwwJwx65ixQcU9hx92jeA29FlGBrN2j3LoTiPV1H15/7gm0dkPKwkE16S6UubZ/45pwdFj23TJ/YtF8Ni/uoqL5nPjlMXykQxv010+74ZXzouiPTH/5HY1B3ixkElg==\" SubTotal=\"74862.51\" TipoDeComprobante=\"I\" Total=\"86840.51\" Version=\"4.0\" xmlns:cfdi=\"http://www.sat.gob.mx/cfd/4\" xmlns:xsi=\"http://www.w3.org/2001/XMLSchema-instance\" xsi:schemaLocation=\"http://www.sat.gob.mx/cfd/4 http://www.sat.gob.mx/sitio_internet/cfd/4/cfdv40.xsd\">\n",
       "<cfdi:Emisor Nombre=\"PATITO SA DE CV\" RegimenFiscal=\"626\" Rfc=\"PRIV...\"/>\n",
       "<cfdi:Receptor DomicilioFiscalReceptor=\"06500\" Nombre=\"HOME S DE RL DE CV\" RegimenFiscalReceptor=\"601\" Rfc=\"PRIV...\" UsoCFDI=\"G03\"/>\n",
       "<cfdi:Conceptos>\n",
       "<cfdi:Concepto Cantidad=\"1.00\" ClaveProdServ=\"80141628\" ClaveUnidad=\"E48\" Descripcion=\"Residual Prepago Diciembre 2021\" Importe=\"74862.51\" ObjetoImp=\"02\" Unidad=\"Unidad de servicio\" ValorUnitario=\"74862.51\">\n",
       "<cfdi:Impuestos>\n",
       "<cfdi:Traslados>\n",
       "<cfdi:Traslado Base=\"74862.51\" Importe=\"11978.00\" Impuesto=\"002\" TasaOCuota=\"0.160000\" TipoFactor=\"Tasa\"/>\n",
       "</cfdi:Traslados>\n",
       "</cfdi:Impuestos>\n",
       "</cfdi:Concepto>\n",
       "</cfdi:Conceptos>\n",
       "<cfdi:Impuestos TotalImpuestosTrasladados=\"11978.00\">\n",
       "<cfdi:Traslados>\n",
       "<cfdi:Traslado Base=\"74862.51\" Importe=\"11978.00\" Impuesto=\"002\" TasaOCuota=\"0.160000\" TipoFactor=\"Tasa\"/>\n",
       "</cfdi:Traslados>\n",
       "</cfdi:Impuestos>\n",
       "<cfdi:Complemento>\n",
       "<tfd:TimbreFiscalDigital FechaTimbrado=\"2022-01-12T19:02:31\" NoCertificadoSAT=\"00001000000504465028\" RfcProvCertif=\"SAT970701NN3\" SelloCFD=\"IxNswUgE5GrDWWgHRJwgDOauapdTEdGB519oVuZoRb2CEMC2B1Tu+BZHA6XG3SQJSs2hSEMRwXo2ImvZ8D1DT4nLrQbUOtLEmhdFPS3dL24k6BVM/9+xzZ0CDwiTtvSMiy7Zr6ThYUyta5f47izErG/xPzhKnBlsqWvxFuFScXVmgOopbZYHky71EnQUe4+d8hJlS5WVIzS4fZOoyQP/SnOxKwwJwx65ixQcU9hx92jeA29FlGBrN2j3LoTiPV1H15/7gm0dkPKwkE16S6UubZ/45pwdFj23TJ/YtF8Ni/uoqL5nPjlMXykQxv010+74ZXzouiPTH/5HY1B3ixkElg==\" SelloSAT=\"BTgeTjeKB6lzFwjopmRkhuIGQr5F9vL+5FESMRGKv/81BsWv5BRk8/sScVLArv2BEMmIz23Pn0C4c6NfKTi62FKPck/o/G8K0e8UmC7SdTGw/6XnYXS8lCOqCc8/XNAsLVs3Bm4lQV7ntb+Ynf8TiMFjzIfgNqkYf4SZKg+/SUNB6PO4xF4h7/XRILjE39CiPLnZiI2RGD2g6IMh6vxBVzzQI0rx48C1GrqUdmbPXR/7RF1jQtLkOK6WiKOpZSlhIpP+AB/CcJfbf/gEl0BwXlztPU/kwi5pzIcxfH8A0pv5YcV9mGiWa4/exrCEdUPcgG43pajsWyB+ggxZ1mXnSA==\" UUID=\"16E7F08C-4B00-5555-B8C8-56F80D462451\" Version=\"1.1\" xmlns:tfd=\"http://www.sat.gob.mx/TimbreFiscalDigital\" xsi:schemaLocation=\"http://www.sat.gob.mx/TimbreFiscalDigital http://www.sat.gob.mx/sitio_internet/cfd/TimbreFiscalDigital/TimbreFiscalDigitalv11.xsd\"/>\n",
       "</cfdi:Complemento>\n",
       "</cfdi:Comprobante>"
      ]
     },
     "execution_count": 20,
     "metadata": {},
     "output_type": "execute_result"
    }
   ],
   "source": [
    "comprobante = SO.find('cfdi:Comprobante')\n",
    "comprobante"
   ]
  },
  {
   "cell_type": "code",
   "execution_count": 22,
   "id": "55ece839",
   "metadata": {},
   "outputs": [
    {
     "data": {
      "text/plain": [
       "bs4.element.Tag"
      ]
     },
     "execution_count": 22,
     "metadata": {},
     "output_type": "execute_result"
    }
   ],
   "source": [
    "type(comprobante)"
   ]
  },
  {
   "cell_type": "code",
   "execution_count": 23,
   "id": "67a1301f",
   "metadata": {},
   "outputs": [
    {
     "data": {
      "text/plain": [
       "{'xsi:schemaLocation': 'http://www.sat.gob.mx/cfd/4 http://www.sat.gob.mx/sitio_internet/cfd/4/cfdv40.xsd',\n",
       " 'Version': '4.0',\n",
       " 'Fecha': '2022-01-12T19:00:06',\n",
       " 'Sello': 'IxNswUgE5GrDWWgHRJwgDOauapdTEdGB519oVuZoRb2CEMC2B1Tu+BZHA6XG3SQJSs2hSEMRwXo2ImvZ8D1DT4nLrQbUOtLEmhdFPS3dL24k6BVM/9+xzZ0CDwiTtvSMiy7Zr6ThYUyta5f47izErG/xPzhKnBlsqWvxFuFScXVmgOopbZYHky71EnQUe4+d8hJlS5WVIzS4fZOoyQP/SnOxKwwJwx65ixQcU9hx92jeA29FlGBrN2j3LoTiPV1H15/7gm0dkPKwkE16S6UubZ/45pwdFj23TJ/YtF8Ni/uoqL5nPjlMXykQxv010+74ZXzouiPTH/5HY1B3ixkElg==',\n",
       " 'FormaPago': '99',\n",
       " 'NoCertificado': '00001000000502772173',\n",
       " 'Certificado': 'MIIF5zCCA8+gAwIBAgIUMDAwMDEwMDAwMDA1MDI3NzIxNzMwDQYJKoZIhvcNAQELBQAwggGEMSAwHgYDVQQDDBdBVVRPUklEQUQgQ0VSVElGSUNBRE9SQTEuMCwGA1UECgwlU0VSVklDSU8gREUgQURNSU5JU1RSQUNJT04gVFJJQlVUQVJJQTEaMBgGA1UECwwRU0FULUlFUyBBdXRob3JpdHkxKjAoBgkqhkiG9w0BCQEWG2NvbnRhY3RvLnRlY25pY29Ac2F0LmdvYi5teDEmMCQGA1UECQwdQVYuIEhJREFMR08gNzcsIENPTC4gR1VFUlJFUk8xDjAMBgNVBBEMBTA2MzAwMQswCQYDVQQGEwJNWDEZMBcGA1UECAwQQ0lVREFEIERFIE1FWElDTzETMBEGA1UEBwwKQ1VBVUhURU1PQzEVMBMGA1UELRMMU0FUOTcwNzAxTk4zMVwwWgYJKoZIhvcNAQkCE01yZXNwb25zYWJsZTogQURNSU5JU1RSQUNJT04gQ0VOVFJBTCBERSBTRVJWSUNJT1MgVFJJQlVUQVJJT1MgQUwgQ09OVFJJQlVZRU5URTAeFw0yMDAxMTYxNTUyNTJaFw0yNDAxMTYxNTUyNTJaMIG1MR0wGwYDVQQDExRTT0xBUkUgQ0VMTCBTQSBERSBDVjEdMBsGA1UEKRMUU09MQVJFIENFTEwgU0EgREUgQ1YxHTAbBgNVBAoTFFNPTEFSRSBDRUxMIFNBIERFIENWMSUwIwYDVQQtExxTQ0UxOTAyMjhENDQgLyBHVURPNzUwMjA5RVM4MR4wHAYDVQQFExUgLyBHVURPNzUwMjA5SERGWlpNMDkxDzANBgNVBAsTBk1BVFJJWjCCASIwDQYJKoZIhvcNAQEBBQADggEPADCCAQoCggEBAJEfinogqxes2HfrF1hxXl1LO1xKnXgqpyNb4HkSgyU4AvEXAAtN6sbA2GkWEfzS4qYGEdgF0CNFY59VuRQh2Ld9Aac6sTb45Z/nH3dHZJmFw2XR58qyQw3RTc3f0B6dXAsD3mkHOcyz5YPxOO/7/srTVzDWSG/sbV+vTrCvt2Qnpj07J2eGbNWLjmaF2FkM2EklvkCuyu0RGNMjRcEiz9TdbrGpGXOJRTDlldDF81kGF1JMy6m4XWsc0mY+ELE4BvkQ+llG6toxecaa94ISHbxmiPK+OuBucaBjOQACzU/SgW1gpBAS/zwn3o4EwV4XqmU4yXeg5SeWkCJ84lIN6UkCAwEAAaMdMBswDAYDVR0TAQH/BAIwADALBgNVHQ8EBAMCBsAwDQYJKoZIhvcNAQELBQADggIBAImf3cOnlCaGXy2+VEgFcwEEKET12smXJgilliZasHhCtzbqCM7Bu9HXDmzk2Me5sfoZPlPEv3MEE0HrnugTcRseCaaiYqURwX+eAvJbeKrp3br0PlCMid7s5oeTI3Nn2j6FIKbtmJRifWzmfIvMkoAN3q01FCuzbFQmzNDFfWTeFQ3tBXFrkEUIY7ewEVmr96TOEi7fJcBQgkiWUzNBLpG5sSoOy/BWJqWHmHL61ymWFkHzL/Y5xJVoJSMU4F11Kh0vWk2ZcA2ULMeNy4MadHLnzSh+XxcV6mh4JbTcQY8Jx7W5syMIf6Ito4GEdS/anhH36ZyX8zAoQH6U3cMqCdJ7Ty+o2kiCLrKC0Y4MBWRVoZuH1v6mdB7bP0M/C3/wxjbI0FUlDX/zxqAvZ7mxWPr9SppN/ytYtS7TwFeNO5T1urj8Pn9rns4VLHy3sh5lV5lknuqJ0ugXnG6cbWY7SgNjumKnEmASB3gaM+fBFSjk4iGHTiQOH06xL3zPBtvKY7kcvTuvtBXh4m0IY9D+uu8EaLpWVpjklPXsjwg6JPLr+lUxZ9ko3jMZaHH3AbIAY4wW1859hVu51LO5qEs9A7zbCHXkDwPQ2yJmb4EWUv4h2tsA6d4MQA+vLnr8JWr1WfN+lw+i+sO32xuwgUh4ykyT/VuxRmv4gAc2rCicc/hh',\n",
       " 'SubTotal': '74862.51',\n",
       " 'Moneda': 'MXN',\n",
       " 'Total': '86840.51',\n",
       " 'TipoDeComprobante': 'I',\n",
       " 'Exportacion': '01',\n",
       " 'MetodoPago': 'PPD',\n",
       " 'LugarExpedicion': '03900',\n",
       " 'xmlns:cfdi': 'http://www.sat.gob.mx/cfd/4',\n",
       " 'xmlns:xsi': 'http://www.w3.org/2001/XMLSchema-instance'}"
      ]
     },
     "execution_count": 23,
     "metadata": {},
     "output_type": "execute_result"
    }
   ],
   "source": [
    "comprobante.attrs"
   ]
  },
  {
   "cell_type": "code",
   "execution_count": 25,
   "id": "7e23a1f6",
   "metadata": {},
   "outputs": [
    {
     "data": {
      "text/plain": [
       "'86840.51'"
      ]
     },
     "execution_count": 25,
     "metadata": {},
     "output_type": "execute_result"
    }
   ],
   "source": [
    "atributos = comprobante.attrs\n",
    "atributos['Total']"
   ]
  },
  {
   "cell_type": "code",
   "execution_count": 26,
   "id": "5c2c101f",
   "metadata": {},
   "outputs": [
    {
     "data": {
      "text/plain": [
       "'MXN'"
      ]
     },
     "execution_count": 26,
     "metadata": {},
     "output_type": "execute_result"
    }
   ],
   "source": [
    "atributos['Moneda']"
   ]
  },
  {
   "cell_type": "code",
   "execution_count": 27,
   "id": "cf4e3d78",
   "metadata": {},
   "outputs": [
    {
     "data": {
      "text/plain": [
       "'2022-01-12T19:00:06'"
      ]
     },
     "execution_count": 27,
     "metadata": {},
     "output_type": "execute_result"
    }
   ],
   "source": [
    "atributos['Fecha']"
   ]
  },
  {
   "cell_type": "code",
   "execution_count": 28,
   "id": "f85f3880",
   "metadata": {},
   "outputs": [
    {
     "data": {
      "text/plain": [
       "[<cfdi:Conceptos>\n",
       " <cfdi:Concepto Cantidad=\"1.00\" ClaveProdServ=\"80141628\" ClaveUnidad=\"E48\" Descripcion=\"Residual Prepago Diciembre 2021\" Importe=\"74862.51\" ObjetoImp=\"02\" Unidad=\"Unidad de servicio\" ValorUnitario=\"74862.51\">\n",
       " <cfdi:Impuestos>\n",
       " <cfdi:Traslados>\n",
       " <cfdi:Traslado Base=\"74862.51\" Importe=\"11978.00\" Impuesto=\"002\" TasaOCuota=\"0.160000\" TipoFactor=\"Tasa\"/>\n",
       " </cfdi:Traslados>\n",
       " </cfdi:Impuestos>\n",
       " </cfdi:Concepto>\n",
       " </cfdi:Conceptos>]"
      ]
     },
     "execution_count": 28,
     "metadata": {},
     "output_type": "execute_result"
    }
   ],
   "source": [
    "SO.find_all('cfdi:Conceptos')"
   ]
  },
  {
   "cell_type": "code",
   "execution_count": 29,
   "id": "d730cb3f",
   "metadata": {},
   "outputs": [
    {
     "data": {
      "text/plain": [
       "[<cfdi:Emisor Nombre=\"PATITO SA DE CV\" RegimenFiscal=\"626\" Rfc=\"PRIV...\"/>]"
      ]
     },
     "execution_count": 29,
     "metadata": {},
     "output_type": "execute_result"
    }
   ],
   "source": [
    "SO.find_all('cfdi:Emisor')"
   ]
  },
  {
   "cell_type": "code",
   "execution_count": 30,
   "id": "215101ae",
   "metadata": {},
   "outputs": [
    {
     "data": {
      "text/plain": [
       "[<cfdi:Receptor DomicilioFiscalReceptor=\"06500\" Nombre=\"HOME S DE RL DE CV\" RegimenFiscalReceptor=\"601\" Rfc=\"PRIV...\" UsoCFDI=\"G03\"/>]"
      ]
     },
     "execution_count": 30,
     "metadata": {},
     "output_type": "execute_result"
    }
   ],
   "source": [
    "SO.find_all('cfdi:Receptor')"
   ]
  },
  {
   "cell_type": "code",
   "execution_count": 33,
   "id": "5d5aa886",
   "metadata": {},
   "outputs": [
    {
     "data": {
      "text/plain": [
       "<cfdi:Concepto Cantidad=\"1.00\" ClaveProdServ=\"80141628\" ClaveUnidad=\"E48\" Descripcion=\"Residual Prepago Diciembre 2021\" Importe=\"74862.51\" ObjetoImp=\"02\" Unidad=\"Unidad de servicio\" ValorUnitario=\"74862.51\">\n",
       "<cfdi:Impuestos>\n",
       "<cfdi:Traslados>\n",
       "<cfdi:Traslado Base=\"74862.51\" Importe=\"11978.00\" Impuesto=\"002\" TasaOCuota=\"0.160000\" TipoFactor=\"Tasa\"/>\n",
       "</cfdi:Traslados>\n",
       "</cfdi:Impuestos>\n",
       "</cfdi:Concepto>"
      ]
     },
     "execution_count": 33,
     "metadata": {},
     "output_type": "execute_result"
    }
   ],
   "source": [
    "concepto = SO.find('cfdi:Concepto')\n",
    "concepto"
   ]
  },
  {
   "cell_type": "code",
   "execution_count": 34,
   "id": "7ab74986",
   "metadata": {},
   "outputs": [
    {
     "data": {
      "text/plain": [
       "{'ClaveProdServ': '80141628',\n",
       " 'Cantidad': '1.00',\n",
       " 'ClaveUnidad': 'E48',\n",
       " 'Unidad': 'Unidad de servicio',\n",
       " 'Descripcion': 'Residual Prepago Diciembre 2021',\n",
       " 'ValorUnitario': '74862.51',\n",
       " 'Importe': '74862.51',\n",
       " 'ObjetoImp': '02'}"
      ]
     },
     "execution_count": 34,
     "metadata": {},
     "output_type": "execute_result"
    }
   ],
   "source": [
    "concepto.attrs"
   ]
  },
  {
   "cell_type": "code",
   "execution_count": 35,
   "id": "4cdef890",
   "metadata": {},
   "outputs": [
    {
     "data": {
      "text/plain": [
       "'Residual Prepago Diciembre 2021'"
      ]
     },
     "execution_count": 35,
     "metadata": {},
     "output_type": "execute_result"
    }
   ],
   "source": [
    "concepto.attrs['Descripcion']"
   ]
  },
  {
   "cell_type": "code",
   "execution_count": 36,
   "id": "2ebf7acf",
   "metadata": {},
   "outputs": [
    {
     "data": {
      "text/plain": [
       "'1.00'"
      ]
     },
     "execution_count": 36,
     "metadata": {},
     "output_type": "execute_result"
    }
   ],
   "source": [
    "concepto.attrs['Cantidad']"
   ]
  },
  {
   "cell_type": "code",
   "execution_count": 37,
   "id": "1440e5ca",
   "metadata": {},
   "outputs": [
    {
     "data": {
      "text/plain": [
       "'74862.51'"
      ]
     },
     "execution_count": 37,
     "metadata": {},
     "output_type": "execute_result"
    }
   ],
   "source": [
    "concepto.attrs['Importe']"
   ]
  },
  {
   "cell_type": "code",
   "execution_count": 38,
   "id": "f079a14a",
   "metadata": {},
   "outputs": [
    {
     "data": {
      "text/plain": [
       "<cfdi:Traslado Base=\"74862.51\" Importe=\"11978.00\" Impuesto=\"002\" TasaOCuota=\"0.160000\" TipoFactor=\"Tasa\"/>"
      ]
     },
     "execution_count": 38,
     "metadata": {},
     "output_type": "execute_result"
    }
   ],
   "source": [
    "iva = SO.find('cfdi:Traslado')\n",
    "iva"
   ]
  },
  {
   "cell_type": "code",
   "execution_count": 40,
   "id": "c5a43268",
   "metadata": {},
   "outputs": [
    {
     "data": {
      "text/plain": [
       "'11978.00'"
      ]
     },
     "execution_count": 40,
     "metadata": {},
     "output_type": "execute_result"
    }
   ],
   "source": [
    "iva.attrs['Importe']"
   ]
  },
  {
   "cell_type": "code",
   "execution_count": 41,
   "id": "93a5eaef",
   "metadata": {},
   "outputs": [
    {
     "data": {
      "text/plain": [
       "'0.160000'"
      ]
     },
     "execution_count": 41,
     "metadata": {},
     "output_type": "execute_result"
    }
   ],
   "source": [
    "iva.attrs['TasaOCuota']"
   ]
  },
  {
   "cell_type": "code",
   "execution_count": 42,
   "id": "88705042",
   "metadata": {},
   "outputs": [
    {
     "data": {
      "text/plain": [
       "'74862.51'"
      ]
     },
     "execution_count": 42,
     "metadata": {},
     "output_type": "execute_result"
    }
   ],
   "source": [
    "iva.attrs['Base']"
   ]
  },
  {
   "cell_type": "code",
   "execution_count": null,
   "id": "53a938bf",
   "metadata": {},
   "outputs": [],
   "source": []
  }
 ],
 "metadata": {
  "kernelspec": {
   "display_name": "Python 3 (ipykernel)",
   "language": "python",
   "name": "python3"
  },
  "language_info": {
   "codemirror_mode": {
    "name": "ipython",
    "version": 3
   },
   "file_extension": ".py",
   "mimetype": "text/x-python",
   "name": "python",
   "nbconvert_exporter": "python",
   "pygments_lexer": "ipython3",
   "version": "3.11.4"
  }
 },
 "nbformat": 4,
 "nbformat_minor": 5
}
