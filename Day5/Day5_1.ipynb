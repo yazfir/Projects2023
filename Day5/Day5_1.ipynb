{
 "cells": [
  {
   "cell_type": "code",
   "execution_count": 5,
   "id": "3d53d8b4",
   "metadata": {},
   "outputs": [
    {
     "data": {
      "text/plain": [
       "'ï»¿<html><head><title>IoT Articles</title></head>\\n<body>\\n<p class=\"title\"><b>2018 Trends: Best New IoT Device Ideas for Data Scientists and Engineers</b></p>\\n<p class=\"description\">Itâ€™s almost 2018 and IoT is on the cusp of an explosive expansion. In this article, I offer you a listing of new IoT device ideas that you can use...\\n<br/>\\n<br/>\\nItâ€™s almost 2018 and IoT is on the cusp of an explosive expansion. In this article, I offer you a listing of new IoT device ideas that you can use to get practice in designing your first IoT applications.\\n<h1>Looking Back at My Coolest IoT Find in 2017</h1>\\nBefore going into detail about best new IoT device ideas, hereâ€™s the backstory. <span style=\"text-decoration: underline;\"><strong><a href=\"http://bit.ly/LPlNDJj\">Last month Ericsson Digital invited me</a></strong></span> to tour the Ericsson Studio in Kista, Sweden. Up until that visit, <a href=\"http://www.data-mania.com/blog/m2m-vs-iot/\">IoT</a> had been largely theoretical to me. Of course, I know the usual mumbo-jumbo about wearables and IoT-connected fitness trackers. That stuff is all well and good, but itâ€™s somewhat old hat â€“ plus I am not sure we are really benefiting so much from those, so Iâ€™m not that impressed.\\n\\nIt wasnâ€™t until I got to the Ericsson Studio that I became extremely impressed by how far IoT has really come. Relying on the promise of the 5g network expansion, IoT-powered smart devices are on the cusp of an explosive growth in adoption. It was Ericssonâ€™s Smart Car that sent me reeling:<a href=\"bit.ly/LPlNDJj\"><img alt=\"Get your new iot device ideas here\" class=\"aligncenter size-full wp-image-3802\" height=\"683\" src=\"http://www.data-mania.com/blog/wp-content/uploads/2017/12/new-IoT-device-ideas.jpg\" width=\"1024\"/></a>\\n\\nThis car is connected to Ericssonâ€™s Connected Vehicle Cloud, an IoT platform that manages services for the Smart Cars to which itâ€™s connected. The Volvo pictured above acts as a drop-off location for groceries that have been ordered by its owner.\\n\\nTo understand how it works, imagine youâ€™re pulling your normal 9-to-5 and you know you need to grab some groceries on your way home. Well, since youâ€™re smart youâ€™ve used Ericsson IoT platform to connect your car to the local grocery delivery service (<a href=\"http://mat.se/\">Mat.se</a>), so all you need to do is open the Mat.se app and make your usual order. Mat.se automatically handles the payment, grocery selection, delivery, and delivery scheduling. Since your car is IoT-enabled, Mat.se issues its trusted delivery agent a 1-time token to use for opening your car in order to place your groceries in your car for you at 4:40 pm (just before you get off from work).\\n\\nTo watch some of the amazing IoT device demos I witnessed at Ericsson Studio, make sure to go <span style=\"text-decoration: underline;\"><strong><a href=\"http://bit.ly/LPlNDJj\">watch the videos on this page</a></strong></span>.\\n<h1>Future Trends for IoT in 2018</h1>\\nNew IoT device ideas wonâ€™t do you much good unless you at least know the basic technology trends that are set to impact IoT over the next year(s). These include:\\n<ol>\\n<li><strong>Big Data</strong> &amp; Data Engineering: Sensors that are embedded within IoT devices spin off machine-generated data like itâ€™s going out of style. For IoT to function, the platform must be solidly engineered to handle big data. Be assured, that requires some serious data engineering.</li>\\n<li><strong>Machine Learning</strong> Data Science: While a lot of IoT devices are still operated according to rules-based decision criteria, the age of artificial intelligence is upon us. IoT will increasingly depend on machine learning algorithms to control device operations so that devices are able to autonomously respond to a complex set of overlapping stimuli.</li>\\n<li><strong>Blockchain</strong>-Enabled Security: Above all else, IoT networks must be secure. Blockchain technology is primed to meet the security demands that come along with building and expanding the IoT.</li>\\n</ol>\\n<h1>Best New IoT Device Ideas</h1>\\nThis listing of new IoT device ideas has been sub-divided according to the main technology upon which the IoT devices are built. Below Iâ€™m providing a list of new IoT device ideas, but for detailed instructions on how to build these IoT applications, I recommend the <a href=\"https://click.linksynergy.com/deeplink?id=*JDLXjeE*wk&amp;mid=39197&amp;murl=https%3A%2F%2Fwww.udemy.com%2Ftopic%2Finternet-of-things%2F%3Fsort%3Dhighest-rated\">IoT courses on Udemy</a> (ÃŸ Please note: if you purchase a Udemy course through this link, I may receive a small commission), or courses that are available at <a href=\"http://www.skyfilabs.com/iot-online-courses\">SkyFi</a> and <a href=\"https://www.coursera.org/specializations/iot\">Coursera</a>.\\n<h2>Raspberry Pi IoT Ideas</h2>\\nUsing Raspberry Pi as open-source hardware, you can build IoT applications that offer any one of the following benefits:\\n<ol>\\n<li>Enable built-in sensing to build a weather station that measures ambient temperature and humidity</li>\\n<li>Build a system that detects discrepancies in electrical readings to identify electricity theft</li>\\n<li>Use IoT to build a Servo that is controlled by motion detection readings</li>\\n<li>Build a smart control switch that operates devices based on external stimuli. Use this for home automation.</li>\\n<li>Build a music playing application that enables music for each room in your house</li>\\n<li>Implement biometrics on IoT-connected devices</li>\\n</ol>\\n<h2>Arduino IoT Ideas</h2>\\nThere are a number of new IoT device ideas that deploy Arduino as a microcontroller. These include:\\n<ol>\\n<li>Integrate Arduino with Android to build a remote-control RGB LED device.</li>\\n<li>Connect PIR sensors across the IoT to implement a smart building.</li>\\n<li>Build a temperature and sunlight sensor system to remotely monitor and control the conditions of your garden.</li>\\n<li>Deploy Arduino and IoT to automate your neighborhood streetlights.</li>\\n<li>Build a smart irrigation system based on IoT-connected temperature and moisture sensors built-in to your agricultural plants.</li>\\n</ol>\\n[caption id=\"attachment_3807\" align=\"aligncenter\" width=\"300\"]<a href=\"bit.ly/LPlNDJj\"><img alt=\"\" class=\"wp-image-3807 size-medium\" height=\"295\" src=\"http://www.data-mania.com/blog/wp-content/uploads/2017/12/IMG_3058-300x295.jpg\" width=\"300\"/></a> An IoT Chatbot Tree at the Ericsson Studio[/caption]\\n<h2>Wireless (GSM) IoT Ideas</h2>\\nSeveral new IoT device ideas are developed around the GSM wireless network. Those are:\\n<ol>\\n<li>Monitor soil moisture to automate agricultural irrigation cycles.</li>\\n<li>Automate and control the conditions of a greenhouse.</li>\\n<li>Enable bio-metrics to build a smart security system for your home or office building</li>\\n<li>Build an autonomously operating fitness application that automatically makes recommendations based on motion detection and heart rate sensors that are embedded on wearable fitness trackers.</li>\\n<li>Build a healthcare monitoring system that tracks, informs, and automatically alerts healthcare providers based on sensor readings that describe a patients vital statistics (like temperature, pulse, blood pressure, etc).</li>\\n</ol>\\n<h2>IoT Automation Ideas</h2>\\nAlmost all new IoT device ideas offer automation benefits, but to outline a few more ideas:\\n<ol>\\n<li>Build an IoT device that automatically locates and reports the closest nearby parking spot.</li>\\n<li>Build a motion detection system that automatically issues emails or sms messages to alert home owners of a likely home invasion.</li>\\n<li>Use temperature sensors connected across the IoT to automatically alert you if your home windows or doors have been left open.</li>\\n<li>Use bio-metric sensors to build a smart system that automate security for your home or office building</li>\\n</ol>\\nTo learn more about IoT and whatâ€™s happening on the leading edge, be sure to pop over to Ericssonâ€™s Studio Tour recap and <span style=\"text-decoration: underline;\"><strong><a href=\"http://bit.ly/LPlNDJj\">watch these videos</a></strong></span>.\\n\\n<em>(I captured some of this content on behalf of DevMode Strategies during an invite-only tour of the Ericsson Studio in Kista. Rest assure, the text and opinions are my own</em>)\\n<p class=\"description\">...</p>\\n</p></body></html>'"
      ]
     },
     "execution_count": 5,
     "metadata": {},
     "output_type": "execute_result"
    }
   ],
   "source": [
    "import io\n",
    "from bs4 import BeautifulSoup\n",
    "\n",
    "archivo = open('html_sample.txt','r')\n",
    "html_doc = archivo.read()\n",
    "html_doc"
   ]
  },
  {
   "cell_type": "code",
   "execution_count": 7,
   "id": "20153713",
   "metadata": {},
   "outputs": [
    {
     "name": "stdout",
     "output_type": "stream",
     "text": [
      "ï»¿<html><head><title>IoT Articles</title></head>\n",
      "<body>\n",
      "<p class=\"title\"><b>2018 Trends: Best New IoT Device Ideas for Data Scientists and Engineers</b></p>\n",
      "<p class=\"description\">Itâ€™s almost 2018 and IoT is on the cusp of an explosive expansion. In this article, I offer you a listing of new IoT device ideas that you can use...\n",
      "<br/>\n",
      "<br/>\n",
      "Itâ€™s almost 2018 and IoT is on the cusp of an explosive expansion. In this article, I offer you a listing of new IoT device ideas that you can use to get practice in designing your first IoT applications.\n",
      "<h1>Looking Back at My Coolest IoT Find in 2017</h1>\n",
      "Before going into detail about best new IoT device ideas, hereâ€™s the backstory. <span style=\"text-decoration: underline;\"><strong><a href=\"http://bit.ly/LPlNDJj\">Last month Ericsson Digital invited me</a></strong></span> to tour the Ericsson Studio in Kista, Sweden. Up until that visit, <a href=\"http://www.data-mania.com/blog/m2m-vs-iot/\">IoT</a> had been largely theoretical to me. Of course, I know the usual mumbo-jumbo about wearables and IoT-connected fitness trackers. That stuff is all well and good, but itâ€™s somewhat old hat â€“ plus I am not sure we are really benefiting so much from those, so Iâ€™m not that impressed.\n",
      "\n",
      "It wasnâ€™t until I got to the Ericsson Studio that I became extremely impressed by how far IoT has really come. Relying on the promise of the 5g network expansion, IoT-powered smart devices are on the cusp of an explosive growth in adoption. It was Ericssonâ€™s Smart Car that sent me reeling:<a href=\"bit.ly/LPlNDJj\"><img alt=\"Get your new iot device ideas here\" class=\"aligncenter size-full wp-image-3802\" height=\"683\" src=\"http://www.data-mania.com/blog/wp-content/uploads/2017/12/new-IoT-device-ideas.jpg\" width=\"1024\"/></a>\n",
      "\n",
      "This car is connected to Ericssonâ€™s Connected Vehicle Cloud, an IoT platform that manages services for the Smart Cars to which itâ€™s connected. The Volvo pictured above acts as a drop-off location for groceries that have been ordered by its owner.\n",
      "\n",
      "To understand how it works, imagine youâ€™re pulling your normal 9-to-5 and you know you need to grab some groceries on your way home. Well, since youâ€™re smart youâ€™ve used Ericsson IoT platform to connect your car to the local grocery delivery service (<a href=\"http://mat.se/\">Mat.se</a>), so all you need to do is open the Mat.se app and make your usual order. Mat.se automatically handles the payment, grocery selection, delivery, and delivery scheduling. Since your car is IoT-enabled, Mat.se issues its trusted delivery agent a 1-time token to use for opening your car in order to place your groceries in your car for you at 4:40 pm (just before you get off from work).\n",
      "\n",
      "To watch some of the amazing IoT device demos I witnessed at Ericsson Studio, make sure to go <span style=\"text-decoration: underline;\"><strong><a href=\"http://bit.ly/LPlNDJj\">watch the videos on this page</a></strong></span>.\n",
      "<h1>Future Trends for IoT in 2018</h1>\n",
      "New IoT device ideas wonâ€™t do you much good unless you at least know the basic technology trends that are set to impact IoT over the next year(s). These include:\n",
      "<ol>\n",
      "<li><strong>Big Data</strong> &amp; Data Engineering: Sensors that are embedded within IoT devices spin off machine-generated data like itâ€™s going out of style. For IoT to function, the platform must be solidly engineered to handle big data. Be assured, that requires some serious data engineering.</li>\n",
      "<li><strong>Machine Learning</strong> Data Science: While a lot of IoT devices are still operated according to rules-based decision criteria, the age of artificial intelligence is upon us. IoT will increasingly depend on machine learning algorithms to control device operations so that devices are able to autonomously respond to a complex set of overlapping stimuli.</li>\n",
      "<li><strong>Blockchain</strong>-Enabled Security: Above all else, IoT networks must be secure. Blockchain technology is primed to meet the security demands that come along with building and expanding the IoT.</li>\n",
      "</ol>\n",
      "<h1>Best New IoT Device Ideas</h1>\n",
      "This listing of new IoT device ideas has been sub-divided according to the main technology upon which the IoT devices are built. Below Iâ€™m providing a list of new IoT device ideas, but for detailed instructions on how to build these IoT applications, I recommend the <a href=\"https://click.linksynergy.com/deeplink?id=*JDLXjeE*wk&amp;mid=39197&amp;murl=https%3A%2F%2Fwww.udemy.com%2Ftopic%2Finternet-of-things%2F%3Fsort%3Dhighest-rated\">IoT courses on Udemy</a> (ÃŸ Please note: if you purchase a Udemy course through this link, I may receive a small commission), or courses that are available at <a href=\"http://www.skyfilabs.com/iot-online-courses\">SkyFi</a> and <a href=\"https://www.coursera.org/specializations/iot\">Coursera</a>.\n",
      "<h2>Raspberry Pi IoT Ideas</h2>\n",
      "Using Raspberry Pi as open-source hardware, you can build IoT applications that offer any one of the following benefits:\n",
      "<ol>\n",
      "<li>Enable built-in sensing to build a weather station that measures ambient temperature and humidity</li>\n",
      "<li>Build a system that detects discrepancies in electrical readings to identify electricity theft</li>\n",
      "<li>Use IoT to build a Servo that is controlled by motion detection readings</li>\n",
      "<li>Build a smart control switch that operates devices based on external stimuli. Use this for home automation.</li>\n",
      "<li>Build a music playing application that enables music for each room in your house</li>\n",
      "<li>Implement biometrics on IoT-connected devices</li>\n",
      "</ol>\n",
      "<h2>Arduino IoT Ideas</h2>\n",
      "There are a number of new IoT device ideas that deploy Arduino as a microcontroller. These include:\n",
      "<ol>\n",
      "<li>Integrate Arduino with Android to build a remote-control RGB LED device.</li>\n",
      "<li>Connect PIR sensors across the IoT to implement a smart building.</li>\n",
      "<li>Build a temperature and sunlight sensor system to remotely monitor and control the conditions of your garden.</li>\n",
      "<li>Deploy Arduino and IoT to automate your neighborhood streetlights.</li>\n",
      "<li>Build a smart irrigation system based on IoT-connected temperature and moisture sensors built-in to your agricultural plants.</li>\n",
      "</ol>\n",
      "[caption id=\"attachment_3807\" align=\"aligncenter\" width=\"300\"]<a href=\"bit.ly/LPlNDJj\"><img alt=\"\" class=\"wp-image-3807 size-medium\" height=\"295\" src=\"http://www.data-mania.com/blog/wp-content/uploads/2017/12/IMG_3058-300x295.jpg\" width=\"300\"/></a> An IoT Chatbot Tree at the Ericsson Studio[/caption]\n",
      "<h2>Wireless (GSM) IoT Ideas</h2>\n",
      "Several new IoT device ideas are developed around the GSM wireless network. Those are:\n",
      "<ol>\n",
      "<li>Monitor soil moisture to automate agricultural irrigation cycles.</li>\n",
      "<li>Automate and control the conditions of a greenhouse.</li>\n",
      "<li>Enable bio-metrics to build a smart security system for your home or office building</li>\n",
      "<li>Build an autonomously operating fitness application that automatically makes recommendations based on motion detection and heart rate sensors that are embedded on wearable fitness trackers.</li>\n",
      "<li>Build a healthcare monitoring system that tracks, informs, and automatically alerts healthcare providers based on sensor readings that describe a patients vital statistics (like temperature, pulse, blood pressure, etc).</li>\n",
      "</ol>\n",
      "<h2>IoT Automation Ideas</h2>\n",
      "Almost all new IoT device ideas offer automation benefits, but to outline a few more ideas:\n",
      "<ol>\n",
      "<li>Build an IoT device that automatically locates and reports the closest nearby parking spot.</li>\n",
      "<li>Build a motion detection system that automatically issues emails or sms messages to alert home owners of a likely home invasion.</li>\n",
      "<li>Use temperature sensors connected across the IoT to automatically alert you if your home windows or doors have been left open.</li>\n",
      "<li>Use bio-metric sensors to build a smart system that automate security for your home or office building</li>\n",
      "</ol>\n",
      "To learn more about IoT and whatâ€™s happening on the leading edge, be sure to pop over to Ericssonâ€™s Studio Tour recap and <span style=\"text-decoration: underline;\"><strong><a href=\"http://bit.ly/LPlNDJj\">watch these videos</a></strong></span>.\n",
      "\n",
      "<em>(I captured some of this content on behalf of DevMode Strategies during an invite-only tour of the Ericsson Studio in Kista. Rest assure, the text and opinions are my own</em>)\n",
      "<p class=\"description\">...</p>\n",
      "</p></body></html>\n"
     ]
    }
   ],
   "source": [
    "soup_object = BeautifulSoup(html_doc,'html.parser')\n",
    "print(soup_object)"
   ]
  },
  {
   "cell_type": "code",
   "execution_count": 8,
   "id": "a655d14c",
   "metadata": {},
   "outputs": [
    {
     "name": "stdout",
     "output_type": "stream",
     "text": [
      "ï»¿\n",
      "<html>\n",
      " <head>\n",
      "  <title>\n",
      "   IoT Articles\n",
      "  </title>\n",
      " </head>\n",
      " <body>\n",
      "  <p class=\"title\">\n",
      "   <b>\n",
      "    2018 Trends: Best New IoT Device Ideas for Data Scientists and Engineers\n",
      "   </b>\n",
      "  </p>\n",
      "  <p class=\"description\">\n",
      "   Itâ€™s almost 2018 and IoT is on the cusp of an explosive expansion. In this article, I offer you a listing of new IoT device ideas that you can use...\n",
      "   <br/>\n",
      "   <br/>\n",
      "   Itâ€™s almost 2018 and IoT is on the cusp of an explosive expansion. In this article, I offer you a listing of new IoT device ideas that you can use to get practice in designing your first IoT applications.\n",
      "   <h1>\n",
      "    Looking Back at My Coolest IoT Find in 2017\n",
      "   </h1>\n",
      "   Before going into detail about best new IoT device ideas, hereâ€™s the backstory.\n",
      "   <span style=\"text-decoration: underline;\">\n",
      "    <strong>\n",
      "     <a href=\"http://bit.ly/LPlNDJj\">\n",
      "      Last month Ericsson Digital invited me\n",
      "     </a>\n",
      "    </strong>\n",
      "   </span>\n",
      "   to tour the Ericsson Studio in Kista, Sweden. Up until that visit,\n",
      "   <a href=\"http://www.data-mania.com/blog/m2m-vs-iot/\">\n",
      "    IoT\n",
      "   </a>\n",
      "   had been largely theoretical to me. Of course, I know the usual mumbo-jumbo about wearables and IoT-connected fitness trackers. That stuff is all well and good, but itâ€™s somewhat old hat â€“ plus I am not sure we are really benefiting so much from those, so Iâ€™m not that impressed.\n",
      "\n",
      "It wasnâ€™t until I got to the Ericsson Studio that I became extremely impressed by how far IoT has really come. Relying on the promise of the 5g network expansion, IoT-powered smart devices are on the cusp of an explosive growth in adoption. It was Ericssonâ€™s Smart Car that sent me reeling:\n",
      "   <a href=\"bit.ly/LPlNDJj\">\n",
      "    <img alt=\"Get your new iot device ideas here\" class=\"aligncenter size-full wp-image-3802\" height=\"683\" src=\"http://www.data-mania.com/blog/wp-content/uploads/2017/12/new-IoT-device-ideas.jpg\" width=\"1024\"/>\n",
      "   </a>\n",
      "   This car is connected to Ericssonâ€™s Connected Vehicle Cloud, an IoT platform that manages services for the Smart Cars to which itâ€™s connected. The Volvo pictured above acts as a drop-off location for groceries that have been ordered by its owner.\n",
      "\n",
      "To understand how it works, imagine youâ€™re pulling your normal 9-to-5 and you know you need to grab some groceries on your way home. Well, since youâ€™re smart youâ€™ve used Ericsson IoT platform to connect your car to the local grocery delivery service (\n",
      "   <a href=\"http://mat.se/\">\n",
      "    Mat.se\n",
      "   </a>\n",
      "   ), so all you need to do is open the Mat.se app and make your usual order. Mat.se automatically handles the payment, grocery selection, delivery, and delivery scheduling. Since your car is IoT-enabled, Mat.se issues its trusted delivery agent a 1-time token to use for opening your car in order to place your groceries in your car for you at 4:40 pm (just before you get off from work).\n",
      "\n",
      "To watch some of the amazing IoT device demos I witnessed at Ericsson Studio, make sure to go\n",
      "   <span style=\"text-decoration: underline;\">\n",
      "    <strong>\n",
      "     <a href=\"http://bit.ly/LPlNDJj\">\n",
      "      watch the videos on this page\n",
      "     </a>\n",
      "    </strong>\n",
      "   </span>\n",
      "   .\n",
      "   <h1>\n",
      "    Future Trends for IoT in 2018\n",
      "   </h1>\n",
      "   New IoT device ideas wonâ€™t do you much good unless you at least know the basic technology trends that are set to impact IoT over the next year(s). These include:\n",
      "   <ol>\n",
      "    <li>\n",
      "     <strong>\n",
      "      Big Data\n",
      "     </strong>\n",
      "     &amp; Data Engineering: Sensors that are embedded within IoT devices spin off machine-generated data like itâ€™s going out of style. For IoT to function, the platform must be solidly engineered to handle big data. Be assured, that requires some serious data engineering.\n",
      "    </li>\n",
      "    <li>\n",
      "     <strong>\n",
      "      Machine Learning\n",
      "     </strong>\n",
      "     Data Science: While a lot of IoT devices are still operated according to rules-based decision criteria, the age of artificial intelligence is upon us. IoT will increasingly depend on machine learning algorithms to control device operations so that devices are able to autonomously respond to a complex set of overlapping stimuli.\n",
      "    </li>\n",
      "    <li>\n",
      "     <strong>\n",
      "      Blockchain\n",
      "     </strong>\n",
      "     -Enabled Security: Above all else, IoT networks must be secure. Blockchain technology is primed to meet the security demands that come along with building and expanding the IoT.\n",
      "    </li>\n",
      "   </ol>\n",
      "   <h1>\n",
      "    Best New IoT Device Ideas\n",
      "   </h1>\n",
      "   This listing of new IoT device ideas has been sub-divided according to the main technology upon which the IoT devices are built. Below Iâ€™m providing a list of new IoT device ideas, but for detailed instructions on how to build these IoT applications, I recommend the\n",
      "   <a href=\"https://click.linksynergy.com/deeplink?id=*JDLXjeE*wk&amp;mid=39197&amp;murl=https%3A%2F%2Fwww.udemy.com%2Ftopic%2Finternet-of-things%2F%3Fsort%3Dhighest-rated\">\n",
      "    IoT courses on Udemy\n",
      "   </a>\n",
      "   (ÃŸ Please note: if you purchase a Udemy course through this link, I may receive a small commission), or courses that are available at\n",
      "   <a href=\"http://www.skyfilabs.com/iot-online-courses\">\n",
      "    SkyFi\n",
      "   </a>\n",
      "   and\n",
      "   <a href=\"https://www.coursera.org/specializations/iot\">\n",
      "    Coursera\n",
      "   </a>\n",
      "   .\n",
      "   <h2>\n",
      "    Raspberry Pi IoT Ideas\n",
      "   </h2>\n",
      "   Using Raspberry Pi as open-source hardware, you can build IoT applications that offer any one of the following benefits:\n",
      "   <ol>\n",
      "    <li>\n",
      "     Enable built-in sensing to build a weather station that measures ambient temperature and humidity\n",
      "    </li>\n",
      "    <li>\n",
      "     Build a system that detects discrepancies in electrical readings to identify electricity theft\n",
      "    </li>\n",
      "    <li>\n",
      "     Use IoT to build a Servo that is controlled by motion detection readings\n",
      "    </li>\n",
      "    <li>\n",
      "     Build a smart control switch that operates devices based on external stimuli. Use this for home automation.\n",
      "    </li>\n",
      "    <li>\n",
      "     Build a music playing application that enables music for each room in your house\n",
      "    </li>\n",
      "    <li>\n",
      "     Implement biometrics on IoT-connected devices\n",
      "    </li>\n",
      "   </ol>\n",
      "   <h2>\n",
      "    Arduino IoT Ideas\n",
      "   </h2>\n",
      "   There are a number of new IoT device ideas that deploy Arduino as a microcontroller. These include:\n",
      "   <ol>\n",
      "    <li>\n",
      "     Integrate Arduino with Android to build a remote-control RGB LED device.\n",
      "    </li>\n",
      "    <li>\n",
      "     Connect PIR sensors across the IoT to implement a smart building.\n",
      "    </li>\n",
      "    <li>\n",
      "     Build a temperature and sunlight sensor system to remotely monitor and control the conditions of your garden.\n",
      "    </li>\n",
      "    <li>\n",
      "     Deploy Arduino and IoT to automate your neighborhood streetlights.\n",
      "    </li>\n",
      "    <li>\n",
      "     Build a smart irrigation system based on IoT-connected temperature and moisture sensors built-in to your agricultural plants.\n",
      "    </li>\n",
      "   </ol>\n",
      "   [caption id=\"attachment_3807\" align=\"aligncenter\" width=\"300\"]\n",
      "   <a href=\"bit.ly/LPlNDJj\">\n",
      "    <img alt=\"\" class=\"wp-image-3807 size-medium\" height=\"295\" src=\"http://www.data-mania.com/blog/wp-content/uploads/2017/12/IMG_3058-300x295.jpg\" width=\"300\"/>\n",
      "   </a>\n",
      "   An IoT Chatbot Tree at the Ericsson Studio[/caption]\n",
      "   <h2>\n",
      "    Wireless (GSM) IoT Ideas\n",
      "   </h2>\n",
      "   Several new IoT device ideas are developed around the GSM wireless network. Those are:\n",
      "   <ol>\n",
      "    <li>\n",
      "     Monitor soil moisture to automate agricultural irrigation cycles.\n",
      "    </li>\n",
      "    <li>\n",
      "     Automate and control the conditions of a greenhouse.\n",
      "    </li>\n",
      "    <li>\n",
      "     Enable bio-metrics to build a smart security system for your home or office building\n",
      "    </li>\n",
      "    <li>\n",
      "     Build an autonomously operating fitness application that automatically makes recommendations based on motion detection and heart rate sensors that are embedded on wearable fitness trackers.\n",
      "    </li>\n",
      "    <li>\n",
      "     Build a healthcare monitoring system that tracks, informs, and automatically alerts healthcare providers based on sensor readings that describe a patients vital statistics (like temperature, pulse, blood pressure, etc).\n",
      "    </li>\n",
      "   </ol>\n",
      "   <h2>\n",
      "    IoT Automation Ideas\n",
      "   </h2>\n",
      "   Almost all new IoT device ideas offer automation benefits, but to outline a few more ideas:\n",
      "   <ol>\n",
      "    <li>\n",
      "     Build an IoT device that automatically locates and reports the closest nearby parking spot.\n",
      "    </li>\n",
      "    <li>\n",
      "     Build a motion detection system that automatically issues emails or sms messages to alert home owners of a likely home invasion.\n",
      "    </li>\n",
      "    <li>\n",
      "     Use temperature sensors connected across the IoT to automatically alert you if your home windows or doors have been left open.\n",
      "    </li>\n",
      "    <li>\n",
      "     Use bio-metric sensors to build a smart system that automate security for your home or office building\n",
      "    </li>\n",
      "   </ol>\n",
      "   To learn more about IoT and whatâ€™s happening on the leading edge, be sure to pop over to Ericssonâ€™s Studio Tour recap and\n",
      "   <span style=\"text-decoration: underline;\">\n",
      "    <strong>\n",
      "     <a href=\"http://bit.ly/LPlNDJj\">\n",
      "      watch these videos\n",
      "     </a>\n",
      "    </strong>\n",
      "   </span>\n",
      "   .\n",
      "   <em>\n",
      "    (I captured some of this content on behalf of DevMode Strategies during an invite-only tour of the Ericsson Studio in Kista. Rest assure, the text and opinions are my own\n",
      "   </em>\n",
      "   )\n",
      "   <p class=\"description\">\n",
      "    ...\n",
      "   </p>\n",
      "  </p>\n",
      " </body>\n",
      "</html>\n",
      "\n"
     ]
    }
   ],
   "source": [
    "print(soup_object.prettify())"
   ]
  },
  {
   "cell_type": "code",
   "execution_count": 9,
   "id": "fb9dda78",
   "metadata": {},
   "outputs": [
    {
     "data": {
      "text/plain": [
       "<h1>Looking Back at My Coolest IoT Find in 2017</h1>"
      ]
     },
     "execution_count": 9,
     "metadata": {},
     "output_type": "execute_result"
    }
   ],
   "source": [
    "soup_object.h1"
   ]
  },
  {
   "cell_type": "code",
   "execution_count": 10,
   "id": "3005a7af",
   "metadata": {},
   "outputs": [
    {
     "data": {
      "text/plain": [
       "<h1>Looking Back at My Coolest IoT Find in 2017</h1>"
      ]
     },
     "execution_count": 10,
     "metadata": {},
     "output_type": "execute_result"
    }
   ],
   "source": [
    "tag = soup_object.h1\n",
    "tag"
   ]
  },
  {
   "cell_type": "code",
   "execution_count": 11,
   "id": "8fc26830",
   "metadata": {},
   "outputs": [
    {
     "data": {
      "text/plain": [
       "bs4.element.Tag"
      ]
     },
     "execution_count": 11,
     "metadata": {},
     "output_type": "execute_result"
    }
   ],
   "source": [
    "type(tag)"
   ]
  },
  {
   "cell_type": "code",
   "execution_count": 12,
   "id": "0118b123",
   "metadata": {},
   "outputs": [
    {
     "data": {
      "text/plain": [
       "'h1'"
      ]
     },
     "execution_count": 12,
     "metadata": {},
     "output_type": "execute_result"
    }
   ],
   "source": [
    "tag.name"
   ]
  },
  {
   "cell_type": "code",
   "execution_count": 13,
   "id": "d06d6063",
   "metadata": {},
   "outputs": [],
   "source": [
    "soup_object?"
   ]
  },
  {
   "cell_type": "code",
   "execution_count": 15,
   "id": "328b301a",
   "metadata": {},
   "outputs": [
    {
     "name": "stdout",
     "output_type": "stream",
     "text": [
      "ASCII_SPACES\n",
      "DEFAULT_BUILDER_FEATURES\n",
      "DEFAULT_INTERESTING_STRING_TYPES\n",
      "EMPTY_ELEMENT_EVENT\n",
      "END_ELEMENT_EVENT\n",
      "NO_PARSER_SPECIFIED_WARNING\n",
      "ROOT_TAG_NAME\n",
      "START_ELEMENT_EVENT\n",
      "STRING_ELEMENT_EVENT\n",
      "__bool__\n",
      "__call__\n",
      "__class__\n",
      "__contains__\n",
      "__copy__\n",
      "__deepcopy__\n",
      "__delattr__\n",
      "__delitem__\n",
      "__dict__\n",
      "__dir__\n",
      "__doc__\n",
      "__eq__\n",
      "__format__\n",
      "__ge__\n",
      "__getattr__\n",
      "__getattribute__\n",
      "__getitem__\n",
      "__getstate__\n",
      "__gt__\n",
      "__hash__\n",
      "__init__\n",
      "__init_subclass__\n",
      "__iter__\n",
      "__le__\n",
      "__len__\n",
      "__lt__\n",
      "__module__\n",
      "__ne__\n",
      "__new__\n",
      "__reduce__\n",
      "__reduce_ex__\n",
      "__repr__\n",
      "__setattr__\n",
      "__setitem__\n",
      "__setstate__\n",
      "__sizeof__\n",
      "__str__\n",
      "__subclasshook__\n",
      "__unicode__\n",
      "__weakref__\n",
      "_all_strings\n",
      "_clone\n",
      "_decode_markup\n",
      "_event_stream\n",
      "_feed\n",
      "_find_all\n",
      "_find_one\n",
      "_format_tag\n",
      "_indent_string\n",
      "_is_xml\n",
      "_lastRecursiveChild\n",
      "_last_descendant\n",
      "_linkage_fixer\n",
      "_markup_is_url\n",
      "_markup_resembles_filename\n",
      "_most_recent_element\n",
      "_namespaces\n",
      "_popToTag\n",
      "_should_pretty_print\n",
      "append\n",
      "attrs\n",
      "builder\n",
      "can_be_empty_element\n",
      "cdata_list_attributes\n",
      "childGenerator\n",
      "children\n",
      "clear\n",
      "contains_replacement_characters\n",
      "contents\n",
      "css\n",
      "currentTag\n",
      "current_data\n",
      "declared_html_encoding\n",
      "decode\n",
      "decode_contents\n",
      "decompose\n",
      "decomposed\n",
      "default\n",
      "descendants\n",
      "element_classes\n",
      "encode\n",
      "encode_contents\n",
      "endData\n",
      "extend\n",
      "extract\n",
      "fetchNextSiblings\n",
      "fetchParents\n",
      "fetchPrevious\n",
      "fetchPreviousSiblings\n",
      "find\n",
      "findAll\n",
      "findAllNext\n",
      "findAllPrevious\n",
      "findChild\n",
      "findChildren\n",
      "findNext\n",
      "findNextSibling\n",
      "findNextSiblings\n",
      "findParent\n",
      "findParents\n",
      "findPrevious\n",
      "findPreviousSibling\n",
      "findPreviousSiblings\n",
      "find_all\n",
      "find_all_next\n",
      "find_all_previous\n",
      "find_next\n",
      "find_next_sibling\n",
      "find_next_siblings\n",
      "find_parent\n",
      "find_parents\n",
      "find_previous\n",
      "find_previous_sibling\n",
      "find_previous_siblings\n",
      "format_string\n",
      "formatter_for_name\n",
      "get\n",
      "getText\n",
      "get_attribute_list\n",
      "get_text\n",
      "handle_data\n",
      "handle_endtag\n",
      "handle_starttag\n",
      "has_attr\n",
      "has_key\n",
      "hidden\n",
      "index\n",
      "insert\n",
      "insert_after\n",
      "insert_before\n",
      "interesting_string_types\n",
      "isSelfClosing\n",
      "is_empty_element\n",
      "is_xml\n",
      "known_xml\n",
      "markup\n",
      "name\n",
      "namespace\n",
      "new_string\n",
      "new_tag\n",
      "next\n",
      "nextGenerator\n",
      "nextSibling\n",
      "nextSiblingGenerator\n",
      "next_element\n",
      "next_elements\n",
      "next_sibling\n",
      "next_siblings\n",
      "object_was_parsed\n",
      "open_tag_counter\n",
      "original_encoding\n",
      "parent\n",
      "parentGenerator\n",
      "parents\n",
      "parse_only\n",
      "parserClass\n",
      "parser_class\n",
      "popTag\n",
      "prefix\n",
      "preserve_whitespace_tag_stack\n",
      "preserve_whitespace_tags\n",
      "prettify\n",
      "previous\n",
      "previousGenerator\n",
      "previousSibling\n",
      "previousSiblingGenerator\n",
      "previous_element\n",
      "previous_elements\n",
      "previous_sibling\n",
      "previous_siblings\n",
      "pushTag\n",
      "recursiveChildGenerator\n",
      "renderContents\n",
      "replaceWith\n",
      "replaceWithChildren\n",
      "replace_with\n",
      "replace_with_children\n",
      "reset\n",
      "select\n",
      "select_one\n",
      "self_and_descendants\n",
      "setup\n",
      "smooth\n",
      "string\n",
      "string_container\n",
      "string_container_stack\n",
      "strings\n",
      "stripped_strings\n",
      "tagStack\n",
      "text\n",
      "unwrap\n",
      "wrap\n"
     ]
    }
   ],
   "source": [
    "for x in dir(soup_object):\n",
    "    print(x)"
   ]
  },
  {
   "cell_type": "code",
   "execution_count": 16,
   "id": "c2e5dbde",
   "metadata": {},
   "outputs": [
    {
     "data": {
      "text/plain": [
       "<head><title>IoT Articles</title></head>"
      ]
     },
     "execution_count": 16,
     "metadata": {},
     "output_type": "execute_result"
    }
   ],
   "source": [
    "soup_object.head"
   ]
  },
  {
   "cell_type": "code",
   "execution_count": 17,
   "id": "fc90090a",
   "metadata": {},
   "outputs": [
    {
     "data": {
      "text/plain": [
       "<title>IoT Articles</title>"
      ]
     },
     "execution_count": 17,
     "metadata": {},
     "output_type": "execute_result"
    }
   ],
   "source": [
    "soup_object.title"
   ]
  },
  {
   "cell_type": "code",
   "execution_count": 18,
   "id": "38b7e0f4",
   "metadata": {},
   "outputs": [
    {
     "data": {
      "text/plain": [
       "'IoT Articles'"
      ]
     },
     "execution_count": 18,
     "metadata": {},
     "output_type": "execute_result"
    }
   ],
   "source": [
    "soup_object.head.text"
   ]
  },
  {
   "cell_type": "code",
   "execution_count": 19,
   "id": "71ee72e7",
   "metadata": {},
   "outputs": [
    {
     "data": {
      "text/plain": [
       "'IoT Articles'"
      ]
     },
     "execution_count": 19,
     "metadata": {},
     "output_type": "execute_result"
    }
   ],
   "source": [
    "soup_object.title.text"
   ]
  },
  {
   "cell_type": "code",
   "execution_count": 20,
   "id": "b3cfbd5f",
   "metadata": {},
   "outputs": [
    {
     "data": {
      "text/plain": [
       "<body>\n",
       "<p class=\"title\"><b>2018 Trends: Best New IoT Device Ideas for Data Scientists and Engineers</b></p>\n",
       "<p class=\"description\">Itâ€™s almost 2018 and IoT is on the cusp of an explosive expansion. In this article, I offer you a listing of new IoT device ideas that you can use...\n",
       "<br/>\n",
       "<br/>\n",
       "Itâ€™s almost 2018 and IoT is on the cusp of an explosive expansion. In this article, I offer you a listing of new IoT device ideas that you can use to get practice in designing your first IoT applications.\n",
       "<h1>Looking Back at My Coolest IoT Find in 2017</h1>\n",
       "Before going into detail about best new IoT device ideas, hereâ€™s the backstory. <span style=\"text-decoration: underline;\"><strong><a href=\"http://bit.ly/LPlNDJj\">Last month Ericsson Digital invited me</a></strong></span> to tour the Ericsson Studio in Kista, Sweden. Up until that visit, <a href=\"http://www.data-mania.com/blog/m2m-vs-iot/\">IoT</a> had been largely theoretical to me. Of course, I know the usual mumbo-jumbo about wearables and IoT-connected fitness trackers. That stuff is all well and good, but itâ€™s somewhat old hat â€“ plus I am not sure we are really benefiting so much from those, so Iâ€™m not that impressed.\n",
       "\n",
       "It wasnâ€™t until I got to the Ericsson Studio that I became extremely impressed by how far IoT has really come. Relying on the promise of the 5g network expansion, IoT-powered smart devices are on the cusp of an explosive growth in adoption. It was Ericssonâ€™s Smart Car that sent me reeling:<a href=\"bit.ly/LPlNDJj\"><img alt=\"Get your new iot device ideas here\" class=\"aligncenter size-full wp-image-3802\" height=\"683\" src=\"http://www.data-mania.com/blog/wp-content/uploads/2017/12/new-IoT-device-ideas.jpg\" width=\"1024\"/></a>\n",
       "\n",
       "This car is connected to Ericssonâ€™s Connected Vehicle Cloud, an IoT platform that manages services for the Smart Cars to which itâ€™s connected. The Volvo pictured above acts as a drop-off location for groceries that have been ordered by its owner.\n",
       "\n",
       "To understand how it works, imagine youâ€™re pulling your normal 9-to-5 and you know you need to grab some groceries on your way home. Well, since youâ€™re smart youâ€™ve used Ericsson IoT platform to connect your car to the local grocery delivery service (<a href=\"http://mat.se/\">Mat.se</a>), so all you need to do is open the Mat.se app and make your usual order. Mat.se automatically handles the payment, grocery selection, delivery, and delivery scheduling. Since your car is IoT-enabled, Mat.se issues its trusted delivery agent a 1-time token to use for opening your car in order to place your groceries in your car for you at 4:40 pm (just before you get off from work).\n",
       "\n",
       "To watch some of the amazing IoT device demos I witnessed at Ericsson Studio, make sure to go <span style=\"text-decoration: underline;\"><strong><a href=\"http://bit.ly/LPlNDJj\">watch the videos on this page</a></strong></span>.\n",
       "<h1>Future Trends for IoT in 2018</h1>\n",
       "New IoT device ideas wonâ€™t do you much good unless you at least know the basic technology trends that are set to impact IoT over the next year(s). These include:\n",
       "<ol>\n",
       "<li><strong>Big Data</strong> &amp; Data Engineering: Sensors that are embedded within IoT devices spin off machine-generated data like itâ€™s going out of style. For IoT to function, the platform must be solidly engineered to handle big data. Be assured, that requires some serious data engineering.</li>\n",
       "<li><strong>Machine Learning</strong> Data Science: While a lot of IoT devices are still operated according to rules-based decision criteria, the age of artificial intelligence is upon us. IoT will increasingly depend on machine learning algorithms to control device operations so that devices are able to autonomously respond to a complex set of overlapping stimuli.</li>\n",
       "<li><strong>Blockchain</strong>-Enabled Security: Above all else, IoT networks must be secure. Blockchain technology is primed to meet the security demands that come along with building and expanding the IoT.</li>\n",
       "</ol>\n",
       "<h1>Best New IoT Device Ideas</h1>\n",
       "This listing of new IoT device ideas has been sub-divided according to the main technology upon which the IoT devices are built. Below Iâ€™m providing a list of new IoT device ideas, but for detailed instructions on how to build these IoT applications, I recommend the <a href=\"https://click.linksynergy.com/deeplink?id=*JDLXjeE*wk&amp;mid=39197&amp;murl=https%3A%2F%2Fwww.udemy.com%2Ftopic%2Finternet-of-things%2F%3Fsort%3Dhighest-rated\">IoT courses on Udemy</a> (ÃŸ Please note: if you purchase a Udemy course through this link, I may receive a small commission), or courses that are available at <a href=\"http://www.skyfilabs.com/iot-online-courses\">SkyFi</a> and <a href=\"https://www.coursera.org/specializations/iot\">Coursera</a>.\n",
       "<h2>Raspberry Pi IoT Ideas</h2>\n",
       "Using Raspberry Pi as open-source hardware, you can build IoT applications that offer any one of the following benefits:\n",
       "<ol>\n",
       "<li>Enable built-in sensing to build a weather station that measures ambient temperature and humidity</li>\n",
       "<li>Build a system that detects discrepancies in electrical readings to identify electricity theft</li>\n",
       "<li>Use IoT to build a Servo that is controlled by motion detection readings</li>\n",
       "<li>Build a smart control switch that operates devices based on external stimuli. Use this for home automation.</li>\n",
       "<li>Build a music playing application that enables music for each room in your house</li>\n",
       "<li>Implement biometrics on IoT-connected devices</li>\n",
       "</ol>\n",
       "<h2>Arduino IoT Ideas</h2>\n",
       "There are a number of new IoT device ideas that deploy Arduino as a microcontroller. These include:\n",
       "<ol>\n",
       "<li>Integrate Arduino with Android to build a remote-control RGB LED device.</li>\n",
       "<li>Connect PIR sensors across the IoT to implement a smart building.</li>\n",
       "<li>Build a temperature and sunlight sensor system to remotely monitor and control the conditions of your garden.</li>\n",
       "<li>Deploy Arduino and IoT to automate your neighborhood streetlights.</li>\n",
       "<li>Build a smart irrigation system based on IoT-connected temperature and moisture sensors built-in to your agricultural plants.</li>\n",
       "</ol>\n",
       "[caption id=\"attachment_3807\" align=\"aligncenter\" width=\"300\"]<a href=\"bit.ly/LPlNDJj\"><img alt=\"\" class=\"wp-image-3807 size-medium\" height=\"295\" src=\"http://www.data-mania.com/blog/wp-content/uploads/2017/12/IMG_3058-300x295.jpg\" width=\"300\"/></a> An IoT Chatbot Tree at the Ericsson Studio[/caption]\n",
       "<h2>Wireless (GSM) IoT Ideas</h2>\n",
       "Several new IoT device ideas are developed around the GSM wireless network. Those are:\n",
       "<ol>\n",
       "<li>Monitor soil moisture to automate agricultural irrigation cycles.</li>\n",
       "<li>Automate and control the conditions of a greenhouse.</li>\n",
       "<li>Enable bio-metrics to build a smart security system for your home or office building</li>\n",
       "<li>Build an autonomously operating fitness application that automatically makes recommendations based on motion detection and heart rate sensors that are embedded on wearable fitness trackers.</li>\n",
       "<li>Build a healthcare monitoring system that tracks, informs, and automatically alerts healthcare providers based on sensor readings that describe a patients vital statistics (like temperature, pulse, blood pressure, etc).</li>\n",
       "</ol>\n",
       "<h2>IoT Automation Ideas</h2>\n",
       "Almost all new IoT device ideas offer automation benefits, but to outline a few more ideas:\n",
       "<ol>\n",
       "<li>Build an IoT device that automatically locates and reports the closest nearby parking spot.</li>\n",
       "<li>Build a motion detection system that automatically issues emails or sms messages to alert home owners of a likely home invasion.</li>\n",
       "<li>Use temperature sensors connected across the IoT to automatically alert you if your home windows or doors have been left open.</li>\n",
       "<li>Use bio-metric sensors to build a smart system that automate security for your home or office building</li>\n",
       "</ol>\n",
       "To learn more about IoT and whatâ€™s happening on the leading edge, be sure to pop over to Ericssonâ€™s Studio Tour recap and <span style=\"text-decoration: underline;\"><strong><a href=\"http://bit.ly/LPlNDJj\">watch these videos</a></strong></span>.\n",
       "\n",
       "<em>(I captured some of this content on behalf of DevMode Strategies during an invite-only tour of the Ericsson Studio in Kista. Rest assure, the text and opinions are my own</em>)\n",
       "<p class=\"description\">...</p>\n",
       "</p></body>"
      ]
     },
     "execution_count": 20,
     "metadata": {},
     "output_type": "execute_result"
    }
   ],
   "source": [
    "soup_object.body"
   ]
  },
  {
   "cell_type": "code",
   "execution_count": 21,
   "id": "19148781",
   "metadata": {},
   "outputs": [
    {
     "data": {
      "text/plain": [
       "<p class=\"title\"><b>2018 Trends: Best New IoT Device Ideas for Data Scientists and Engineers</b></p>"
      ]
     },
     "execution_count": 21,
     "metadata": {},
     "output_type": "execute_result"
    }
   ],
   "source": [
    "soup_object.body.p"
   ]
  },
  {
   "cell_type": "code",
   "execution_count": 22,
   "id": "22e8ba13",
   "metadata": {},
   "outputs": [
    {
     "data": {
      "text/plain": [
       "<a href=\"http://bit.ly/LPlNDJj\">Last month Ericsson Digital invited me</a>"
      ]
     },
     "execution_count": 22,
     "metadata": {},
     "output_type": "execute_result"
    }
   ],
   "source": [
    "soup_object.body.a"
   ]
  },
  {
   "cell_type": "code",
   "execution_count": 23,
   "id": "70b376a3",
   "metadata": {},
   "outputs": [
    {
     "data": {
      "text/plain": [
       "<b>2018 Trends: Best New IoT Device Ideas for Data Scientists and Engineers</b>"
      ]
     },
     "execution_count": 23,
     "metadata": {},
     "output_type": "execute_result"
    }
   ],
   "source": [
    "soup_object.body.b"
   ]
  },
  {
   "cell_type": "code",
   "execution_count": 24,
   "id": "ca6d0bcd",
   "metadata": {},
   "outputs": [
    {
     "name": "stdout",
     "output_type": "stream",
     "text": [
      "'ï»¿'\n",
      "'IoT Articles'\n",
      "'2018 Trends: Best New IoT Device Ideas for Data Scientists and Engineers'\n",
      "'Itâ€™s almost 2018 and IoT is on the cusp of an explosive expansion. In this article, I offer you a listing of new IoT device ideas that you can use...'\n",
      "'Itâ€™s almost 2018 and IoT is on the cusp of an explosive expansion. In this article, I offer you a listing of new IoT device ideas that you can use to get practice in designing your first IoT applications.'\n",
      "'Looking Back at My Coolest IoT Find in 2017'\n",
      "'Before going into detail about best new IoT device ideas, hereâ€™s the backstory.'\n",
      "'Last month Ericsson Digital invited me'\n",
      "'to tour the Ericsson Studio in Kista, Sweden. Up until that visit,'\n",
      "'IoT'\n",
      "'had been largely theoretical to me. Of course, I know the usual mumbo-jumbo about wearables and IoT-connected fitness trackers. That stuff is all well and good, but itâ€™s somewhat old hat â€“ plus I am not sure we are really benefiting so much from those, so Iâ€™m not that impressed.\\n\\nIt wasnâ€™t until I got to the Ericsson Studio that I became extremely impressed by how far IoT has really come. Relying on the promise of the 5g network expansion, IoT-powered smart devices are on the cusp of an explosive growth in adoption. It was Ericssonâ€™s Smart Car that sent me reeling:'\n",
      "'This car is connected to Ericssonâ€™s Connected Vehicle Cloud, an IoT platform that manages services for the Smart Cars to which itâ€™s connected. The Volvo pictured above acts as a drop-off location for groceries that have been ordered by its owner.\\n\\nTo understand how it works, imagine youâ€™re pulling your normal 9-to-5 and you know you need to grab some groceries on your way home. Well, since youâ€™re smart youâ€™ve used Ericsson IoT platform to connect your car to the local grocery delivery service ('\n",
      "'Mat.se'\n",
      "'), so all you need to do is open the Mat.se app and make your usual order. Mat.se automatically handles the payment, grocery selection, delivery, and delivery scheduling. Since your car is IoT-enabled, Mat.se issues its trusted delivery agent a 1-time token to use for opening your car in order to place your groceries in your car for you at 4:40 pm (just before you get off from work).\\n\\nTo watch some of the amazing IoT device demos I witnessed at Ericsson Studio, make sure to go'\n",
      "'watch the videos on this page'\n",
      "'.'\n",
      "'Future Trends for IoT in 2018'\n",
      "'New IoT device ideas wonâ€™t do you much good unless you at least know the basic technology trends that are set to impact IoT over the next year(s). These include:'\n",
      "'Big Data'\n",
      "'& Data Engineering: Sensors that are embedded within IoT devices spin off machine-generated data like itâ€™s going out of style. For IoT to function, the platform must be solidly engineered to handle big data. Be assured, that requires some serious data engineering.'\n",
      "'Machine Learning'\n",
      "'Data Science: While a lot of IoT devices are still operated according to rules-based decision criteria, the age of artificial intelligence is upon us. IoT will increasingly depend on machine learning algorithms to control device operations so that devices are able to autonomously respond to a complex set of overlapping stimuli.'\n",
      "'Blockchain'\n",
      "'-Enabled Security: Above all else, IoT networks must be secure. Blockchain technology is primed to meet the security demands that come along with building and expanding the IoT.'\n",
      "'Best New IoT Device Ideas'\n",
      "'This listing of new IoT device ideas has been sub-divided according to the main technology upon which the IoT devices are built. Below Iâ€™m providing a list of new IoT device ideas, but for detailed instructions on how to build these IoT applications, I recommend the'\n",
      "'IoT courses on Udemy'\n",
      "'(ÃŸ Please note: if you purchase a Udemy course through this link, I may receive a small commission), or courses that are available at'\n",
      "'SkyFi'\n",
      "'and'\n",
      "'Coursera'\n",
      "'.'\n",
      "'Raspberry Pi IoT Ideas'\n",
      "'Using Raspberry Pi as open-source hardware, you can build IoT applications that offer any one of the following benefits:'\n",
      "'Enable built-in sensing to build a weather station that measures ambient temperature and humidity'\n",
      "'Build a system that detects discrepancies in electrical readings to identify electricity theft'\n",
      "'Use IoT to build a Servo that is controlled by motion detection readings'\n",
      "'Build a smart control switch that operates devices based on external stimuli. Use this for home automation.'\n",
      "'Build a music playing application that enables music for each room in your house'\n",
      "'Implement biometrics on IoT-connected devices'\n",
      "'Arduino IoT Ideas'\n",
      "'There are a number of new IoT device ideas that deploy Arduino as a microcontroller. These include:'\n",
      "'Integrate Arduino with Android to build a remote-control RGB LED device.'\n",
      "'Connect PIR sensors across the IoT to implement a smart building.'\n",
      "'Build a temperature and sunlight sensor system to remotely monitor and control the conditions of your garden.'\n",
      "'Deploy Arduino and IoT to automate your neighborhood streetlights.'\n",
      "'Build a smart irrigation system based on IoT-connected temperature and moisture sensors built-in to your agricultural plants.'\n",
      "'[caption id=\"attachment_3807\" align=\"aligncenter\" width=\"300\"]'\n",
      "'An IoT Chatbot Tree at the Ericsson Studio[/caption]'\n",
      "'Wireless (GSM) IoT Ideas'\n",
      "'Several new IoT device ideas are developed around the GSM wireless network. Those are:'\n",
      "'Monitor soil moisture to automate agricultural irrigation cycles.'\n",
      "'Automate and control the conditions of a greenhouse.'\n",
      "'Enable bio-metrics to build a smart security system for your home or office building'\n",
      "'Build an autonomously operating fitness application that automatically makes recommendations based on motion detection and heart rate sensors that are embedded on wearable fitness trackers.'\n",
      "'Build a healthcare monitoring system that tracks, informs, and automatically alerts healthcare providers based on sensor readings that describe a patients vital statistics (like temperature, pulse, blood pressure, etc).'\n",
      "'IoT Automation Ideas'\n",
      "'Almost all new IoT device ideas offer automation benefits, but to outline a few more ideas:'\n",
      "'Build an IoT device that automatically locates and reports the closest nearby parking spot.'\n",
      "'Build a motion detection system that automatically issues emails or sms messages to alert home owners of a likely home invasion.'\n",
      "'Use temperature sensors connected across the IoT to automatically alert you if your home windows or doors have been left open.'\n",
      "'Use bio-metric sensors to build a smart system that automate security for your home or office building'\n",
      "'To learn more about IoT and whatâ€™s happening on the leading edge, be sure to pop over to Ericssonâ€™s Studio Tour recap and'\n",
      "'watch these videos'\n",
      "'.'\n",
      "'(I captured some of this content on behalf of DevMode Strategies during an invite-only tour of the Ericsson Studio in Kista. Rest assure, the text and opinions are my own'\n",
      "')'\n",
      "'...'\n"
     ]
    }
   ],
   "source": [
    "for str in soup_object.stripped_strings:\n",
    "    print(repr(str))"
   ]
  },
  {
   "cell_type": "code",
   "execution_count": 27,
   "id": "0ff4faaa",
   "metadata": {},
   "outputs": [
    {
     "data": {
      "text/plain": [
       "<a href=\"http://bit.ly/LPlNDJj\">Last month Ericsson Digital invited me</a>"
      ]
     },
     "execution_count": 27,
     "metadata": {},
     "output_type": "execute_result"
    }
   ],
   "source": [
    "first_link = soup_object.a\n",
    "first_link"
   ]
  },
  {
   "cell_type": "code",
   "execution_count": 28,
   "id": "fd1dda59",
   "metadata": {},
   "outputs": [
    {
     "data": {
      "text/plain": [
       "<strong><a href=\"http://bit.ly/LPlNDJj\">Last month Ericsson Digital invited me</a></strong>"
      ]
     },
     "execution_count": 28,
     "metadata": {},
     "output_type": "execute_result"
    }
   ],
   "source": [
    "first_link.parent"
   ]
  },
  {
   "cell_type": "code",
   "execution_count": 29,
   "id": "181e5379",
   "metadata": {},
   "outputs": [
    {
     "data": {
      "text/plain": [
       "'Last month Ericsson Digital invited me'"
      ]
     },
     "execution_count": 29,
     "metadata": {},
     "output_type": "execute_result"
    }
   ],
   "source": [
    "first_link.string"
   ]
  },
  {
   "cell_type": "code",
   "execution_count": 30,
   "id": "ba40cb2c",
   "metadata": {},
   "outputs": [
    {
     "data": {
      "text/plain": [
       "'Last month Ericsson Digital invited me'"
      ]
     },
     "execution_count": 30,
     "metadata": {},
     "output_type": "execute_result"
    }
   ],
   "source": [
    "first_link.text"
   ]
  },
  {
   "cell_type": "code",
   "execution_count": 31,
   "id": "65abde76",
   "metadata": {},
   "outputs": [
    {
     "data": {
      "text/plain": [
       "<a href=\"http://bit.ly/LPlNDJj\">Last month Ericsson Digital invited me</a>"
      ]
     },
     "execution_count": 31,
     "metadata": {},
     "output_type": "execute_result"
    }
   ],
   "source": [
    "first_link.string.parent"
   ]
  },
  {
   "cell_type": "code",
   "execution_count": 32,
   "id": "aab27385",
   "metadata": {},
   "outputs": [
    {
     "data": {
      "text/plain": [
       "bs4.element.Tag"
      ]
     },
     "execution_count": 32,
     "metadata": {},
     "output_type": "execute_result"
    }
   ],
   "source": [
    "type(first_link)"
   ]
  },
  {
   "cell_type": "code",
   "execution_count": 33,
   "id": "4254f95f",
   "metadata": {},
   "outputs": [
    {
     "data": {
      "text/plain": [
       "{'href': 'http://bit.ly/LPlNDJj'}"
      ]
     },
     "execution_count": 33,
     "metadata": {},
     "output_type": "execute_result"
    }
   ],
   "source": [
    "first_link.attrs"
   ]
  },
  {
   "cell_type": "code",
   "execution_count": 34,
   "id": "3f017b64",
   "metadata": {},
   "outputs": [
    {
     "data": {
      "text/plain": [
       "dict"
      ]
     },
     "execution_count": 34,
     "metadata": {},
     "output_type": "execute_result"
    }
   ],
   "source": [
    "type(first_link.attrs)"
   ]
  },
  {
   "cell_type": "code",
   "execution_count": 35,
   "id": "260618bd",
   "metadata": {},
   "outputs": [
    {
     "data": {
      "text/plain": [
       "'http://bit.ly/LPlNDJj'"
      ]
     },
     "execution_count": 35,
     "metadata": {},
     "output_type": "execute_result"
    }
   ],
   "source": [
    "first_link.attrs['href']"
   ]
  },
  {
   "cell_type": "code",
   "execution_count": null,
   "id": "a6f6ef98",
   "metadata": {},
   "outputs": [],
   "source": []
  }
 ],
 "metadata": {
  "kernelspec": {
   "display_name": "Python 3 (ipykernel)",
   "language": "python",
   "name": "python3"
  },
  "language_info": {
   "codemirror_mode": {
    "name": "ipython",
    "version": 3
   },
   "file_extension": ".py",
   "mimetype": "text/x-python",
   "name": "python",
   "nbconvert_exporter": "python",
   "pygments_lexer": "ipython3",
   "version": "3.11.4"
  }
 },
 "nbformat": 4,
 "nbformat_minor": 5
}
